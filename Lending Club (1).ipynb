{
 "cells": [
  {
   "cell_type": "markdown",
   "id": "judicial-oasis",
   "metadata": {},
   "source": [
    "# Lending Club Loan Analysis"
   ]
  },
  {
   "cell_type": "markdown",
   "id": "brilliant-turkish",
   "metadata": {},
   "source": [
    "# Company Information\n",
    "<b>Lending Club is a peer to peer lending company based in the United States, in which investors provide funds for potential borrowers and investors earn a profit depending on the risk they take (the borrowers credit score). Lending Club provides the \"bridge\" between investors and borrowers.</b>"
   ]
  },
  {
   "cell_type": "markdown",
   "id": "valuable-characteristic",
   "metadata": {},
   "source": [
    "# Dataset\n",
    "<b> The dataset is downloaded from Kaggle </b>\n",
    "<b><br> Data contains 2 csv files: <b></br>\n",
    "<b><br> 1st csv file contains data about 2007-2015 loans issued by Lending Club </b></br>\n",
    "<b><br> 2nd csv file contains data about 2016-2017 loans issued by Lending Club </b></br>"
   ]
  },
  {
   "cell_type": "markdown",
   "id": "dominant-summit",
   "metadata": {},
   "source": [
    "# Task Performed\n",
    "<b><br>1: Loaded both the datasets and combine them into single dataset </b></br>\n",
    "<b><br>2: Performed Data Cleaning and analysis in PySpark </b></br>\n",
    "<b><br>3: Performed Spark Transformations and Actions & Exploratory Data Analysis to find insights and analyze data by plotting graphs and analysis </b></br>\n",
    "<b><br>4: Exploring major reasons for Loan Taken by borrowers, Yearly Loan taken </br></b>\n",
    "<br><b>5: Inspecting statewise loans taken and why some loans are taken more in some states</br></b>\n",
    "<br><b>6: Analyzing by Income category, Home Ownership relation Loan Status </b></br>\n",
    "<b><br>7: Inspecting terms period for loan taken and finding States with High Percentage of Good Loans and States with High Percenatge Bad Loans by relation with Debt to Income ratio (dti)</br></b>\n",
    "<b><br>8: Tracking Interest Rate for Loan taken with respect to Loan Status and Installments for different reasons for loan taken with respect to Loan Status </br></b>"
   ]
  },
  {
   "cell_type": "code",
   "execution_count": null,
   "id": "ordered-commerce",
   "metadata": {},
   "outputs": [],
   "source": [
    "# Installing PySpark\n",
    "!pip install pyspark"
   ]
  },
  {
   "cell_type": "code",
   "execution_count": 1,
   "id": "surprised-silicon",
   "metadata": {},
   "outputs": [],
   "source": [
    "import pyspark\n",
    "from pyspark.sql import SparkSession\n"
   ]
  },
  {
   "cell_type": "code",
   "execution_count": 2,
   "id": "organized-unemployment",
   "metadata": {},
   "outputs": [],
   "source": [
    "# Creating a Spark Session\n",
    "spark=SparkSession.builder.appName('LendingClub').getOrCreate()"
   ]
  },
  {
   "cell_type": "code",
   "execution_count": 3,
   "id": "fallen-macedonia",
   "metadata": {},
   "outputs": [
    {
     "data": {
      "text/html": [
       "\n",
       "            <div>\n",
       "                <p><b>SparkSession - in-memory</b></p>\n",
       "                \n",
       "        <div>\n",
       "            <p><b>SparkContext</b></p>\n",
       "\n",
       "            <p><a href=\"http://10.0.0.167:4040\">Spark UI</a></p>\n",
       "\n",
       "            <dl>\n",
       "              <dt>Version</dt>\n",
       "                <dd><code>v3.1.2</code></dd>\n",
       "              <dt>Master</dt>\n",
       "                <dd><code>local[*]</code></dd>\n",
       "              <dt>AppName</dt>\n",
       "                <dd><code>LendingClub</code></dd>\n",
       "            </dl>\n",
       "        </div>\n",
       "        \n",
       "            </div>\n",
       "        "
      ],
      "text/plain": [
       "<pyspark.sql.session.SparkSession at 0x256e1dd7760>"
      ]
     },
     "execution_count": 3,
     "metadata": {},
     "output_type": "execute_result"
    }
   ],
   "source": [
    "# Details about Spark Session created\n",
    "spark"
   ]
  },
  {
   "cell_type": "code",
   "execution_count": 4,
   "id": "protected-shape",
   "metadata": {},
   "outputs": [],
   "source": [
    "# Read a dataset\n",
    "df_spark=spark.read.csv(\"C:/Users/shwer/OneDrive/Desktop/Lending Club/lc_loan.csv\") # Contains data from 2007 -2015\n",
    "df_spark1=spark.read.csv(\"C:/Users/shwer/OneDrive/Desktop/Lending Club/lc_2016_2017.csv\") # Contains data from 2016-2017"
   ]
  },
  {
   "cell_type": "code",
   "execution_count": 5,
   "id": "greek-audience",
   "metadata": {},
   "outputs": [],
   "source": [
    "# Reading a dataset with header as first row i.e. column names\n",
    "a=spark.read.option('header','true').csv('C:/Users/shwer/OneDrive/Desktop/Lending Club/lc_loan.csv')\n",
    "b=spark.read.option('header','true').csv('C:/Users/shwer/OneDrive/Desktop/Lending Club/lc_2016_2017.csv')"
   ]
  },
  {
   "cell_type": "code",
   "execution_count": 6,
   "id": "ethical-expansion",
   "metadata": {},
   "outputs": [
    {
     "name": "stdout",
     "output_type": "stream",
     "text": [
      "<class 'pyspark.sql.dataframe.DataFrame'>\n"
     ]
    },
    {
     "data": {
      "text/plain": [
       "pyspark.sql.dataframe.DataFrame"
      ]
     },
     "execution_count": 6,
     "metadata": {},
     "output_type": "execute_result"
    }
   ],
   "source": [
    "# Checking the type\n",
    "print(type(a))\n",
    "type(b)\n"
   ]
  },
  {
   "cell_type": "code",
   "execution_count": 7,
   "id": "composite-perception",
   "metadata": {},
   "outputs": [
    {
     "name": "stdout",
     "output_type": "stream",
     "text": [
      "887379\n"
     ]
    },
    {
     "data": {
      "text/plain": [
       "759338"
      ]
     },
     "execution_count": 7,
     "metadata": {},
     "output_type": "execute_result"
    }
   ],
   "source": [
    "# Getting total number of rows in dataframe\n",
    "print(a.count())\n",
    "b.count()"
   ]
  },
  {
   "cell_type": "code",
   "execution_count": 8,
   "id": "written-literacy",
   "metadata": {},
   "outputs": [
    {
     "name": "stdout",
     "output_type": "stream",
     "text": [
      "root\n",
      " |-- id: string (nullable = true)\n",
      " |-- member_id: string (nullable = true)\n",
      " |-- loan_amnt: string (nullable = true)\n",
      " |-- funded_amnt: string (nullable = true)\n",
      " |-- funded_amnt_inv: string (nullable = true)\n",
      " |-- term: string (nullable = true)\n",
      " |-- int_rate: string (nullable = true)\n",
      " |-- installment: string (nullable = true)\n",
      " |-- grade: string (nullable = true)\n",
      " |-- sub_grade: string (nullable = true)\n",
      " |-- emp_length: string (nullable = true)\n",
      " |-- home_ownership: string (nullable = true)\n",
      " |-- annual_inc: string (nullable = true)\n",
      " |-- verification_status: string (nullable = true)\n",
      " |-- issue_d: string (nullable = true)\n",
      " |-- loan_status: string (nullable = true)\n",
      " |-- pymnt_plan: string (nullable = true)\n",
      " |-- purpose: string (nullable = true)\n",
      " |-- zip_code: string (nullable = true)\n",
      " |-- addr_state: string (nullable = true)\n",
      " |-- dti: string (nullable = true)\n",
      " |-- delinq_2yrs: string (nullable = true)\n",
      " |-- earliest_cr_line: string (nullable = true)\n",
      " |-- inq_last_6mths: string (nullable = true)\n",
      " |-- mths_since_last_delinq: string (nullable = true)\n",
      " |-- mths_since_last_record: string (nullable = true)\n",
      " |-- open_acc: string (nullable = true)\n",
      " |-- pub_rec: string (nullable = true)\n",
      " |-- revol_bal: string (nullable = true)\n",
      " |-- revol_util: string (nullable = true)\n",
      " |-- total_acc: string (nullable = true)\n",
      " |-- initial_list_status: string (nullable = true)\n",
      " |-- out_prncp: string (nullable = true)\n",
      " |-- out_prncp_inv: string (nullable = true)\n",
      " |-- total_pymnt: string (nullable = true)\n",
      " |-- total_pymnt_inv: string (nullable = true)\n",
      " |-- total_rec_prncp: string (nullable = true)\n",
      " |-- total_rec_int: string (nullable = true)\n",
      " |-- total_rec_late_fee: string (nullable = true)\n",
      " |-- recoveries: string (nullable = true)\n",
      " |-- collection_recovery_fee: string (nullable = true)\n",
      " |-- last_pymnt_d: string (nullable = true)\n",
      " |-- last_pymnt_amnt: string (nullable = true)\n",
      " |-- next_pymnt_d: string (nullable = true)\n",
      " |-- last_credit_pull_d: string (nullable = true)\n",
      " |-- collections_12_mths_ex_med: string (nullable = true)\n",
      " |-- mths_since_last_major_derog: string (nullable = true)\n",
      " |-- policy_code: string (nullable = true)\n",
      " |-- application_type: string (nullable = true)\n",
      " |-- annual_inc_joint: string (nullable = true)\n",
      " |-- dti_joint: string (nullable = true)\n",
      " |-- verification_status_joint: string (nullable = true)\n",
      " |-- acc_now_delinq: string (nullable = true)\n",
      " |-- tot_coll_amt: string (nullable = true)\n",
      " |-- tot_cur_bal: string (nullable = true)\n",
      " |-- open_acc_6m: string (nullable = true)\n",
      " |-- open_il_6m: string (nullable = true)\n",
      " |-- open_il_12m: string (nullable = true)\n",
      " |-- open_il_24m: string (nullable = true)\n",
      " |-- mths_since_rcnt_il: string (nullable = true)\n",
      " |-- total_bal_il: string (nullable = true)\n",
      " |-- il_util: string (nullable = true)\n",
      " |-- open_rv_12m: string (nullable = true)\n",
      " |-- open_rv_24m: string (nullable = true)\n",
      " |-- max_bal_bc: string (nullable = true)\n",
      " |-- all_util: string (nullable = true)\n",
      " |-- total_rev_hi_lim: string (nullable = true)\n",
      " |-- inq_fi: string (nullable = true)\n",
      " |-- total_cu_tl: string (nullable = true)\n",
      " |-- inq_last_12m: string (nullable = true)\n",
      "\n"
     ]
    }
   ],
   "source": [
    "# Printing the Schema\n",
    "a.printSchema()"
   ]
  },
  {
   "cell_type": "code",
   "execution_count": 9,
   "id": "express-visiting",
   "metadata": {},
   "outputs": [],
   "source": [
    "# dti_joint= Debt/Income ratio is important feature to see whether the borrower has ability to really pay. If debt is close to income then by default then customer will always have its personal needs and then it will be a problem"
   ]
  },
  {
   "cell_type": "code",
   "execution_count": 10,
   "id": "contrary-appliance",
   "metadata": {},
   "outputs": [],
   "source": [
    "# As there are 145 columns so selecting only few subset of columns from the data\n",
    "sel1=a.select(\"term\",\"home_ownership\",\"grade\",\"purpose\",\"int_rate\",\"addr_state\",\"loan_status\",\"application_type\",\"loan_amnt\",\"emp_length\",\"annual_inc\",\"dti\",\"delinq_2yrs\",\"revol_util\",\"total_acc\",\"dti_joint\",\"installment\",\"issue_d\")\n",
    "sel2=b.select(\"term\",\"home_ownership\",\"grade\",\"purpose\",\"int_rate\",\"addr_state\",\"loan_status\",\"application_type\",\"loan_amnt\",\"emp_length\",\"annual_inc\",\"dti\",\"delinq_2yrs\",\"revol_util\",\"total_acc\",\"dti_joint\",\"installment\",\"issue_d\")"
   ]
  },
  {
   "cell_type": "code",
   "execution_count": 11,
   "id": "empirical-service",
   "metadata": {},
   "outputs": [
    {
     "data": {
      "text/plain": [
       "DataFrame[term: string, home_ownership: string, grade: string, purpose: string, int_rate: string, addr_state: string, loan_status: string, application_type: string, loan_amnt: string, emp_length: string, annual_inc: string, dti: string, delinq_2yrs: string, revol_util: string, total_acc: string, dti_joint: string, installment: string, issue_d: string]"
      ]
     },
     "execution_count": 11,
     "metadata": {},
     "output_type": "execute_result"
    }
   ],
   "source": [
    "# Cache dataset i.e. load this dataset into a executed memory which has cache putting it in local dataset for faster processing\n",
    "sel1.cache()"
   ]
  },
  {
   "cell_type": "code",
   "execution_count": 12,
   "id": "complex-palestine",
   "metadata": {},
   "outputs": [
    {
     "name": "stdout",
     "output_type": "stream",
     "text": [
      "+-------+-----------------+----------+------------------+-------------------+-----------------+------------------+\n",
      "|summary|        loan_amnt|emp_length|               dti|        delinq_2yrs|       revol_util|         total_acc|\n",
      "+-------+-----------------+----------+------------------+-------------------+-----------------+------------------+\n",
      "|  count|           887379|    887379|            887379|             887350|           886877|            887350|\n",
      "|   mean|14755.26460508982|      null|18.157038739929554|0.31444187750042263|55.06769323141791| 25.26802614526399|\n",
      "| stddev|8435.455601278396|      null| 17.19062568794124| 0.8622438402021185|23.83434410338161|11.840561062535418|\n",
      "|    min|             1000|    1 year|                 0|                  0|                0|                 1|\n",
      "|    max|             9975|       n/a|              9999|                  9|             99.9|                99|\n",
      "+-------+-----------------+----------+------------------+-------------------+-----------------+------------------+\n",
      "\n"
     ]
    }
   ],
   "source": [
    "# Selecting lesser columns to display\n",
    "sel1.describe(\"loan_amnt\",\"emp_length\",\"dti\",\"delinq_2yrs\",\"revol_util\",\"total_acc\").show()"
   ]
  },
  {
   "cell_type": "markdown",
   "id": "homeless-vitamin",
   "metadata": {},
   "source": [
    "# Observations: There are many data inconsistency so need to do data cleaning."
   ]
  },
  {
   "cell_type": "code",
   "execution_count": 13,
   "id": "running-intermediate",
   "metadata": {},
   "outputs": [],
   "source": [
    "# refer: https://www.geeksforgeeks.org/merge-two-dataframes-in-pyspark/\n",
    "# Need to combine 2 dataframes \n",
    "\n",
    "# import modules\n",
    "from pyspark.sql import SparkSession\n",
    "import functools\n",
    "  \n",
    "# explicit function\n",
    "def unionAll(dfs):\n",
    "    return functools.reduce(lambda sel1, sel2: sel1.union(sel2.select(sel1.columns)), dfs)"
   ]
  },
  {
   "cell_type": "code",
   "execution_count": 14,
   "id": "departmental-opinion",
   "metadata": {},
   "outputs": [],
   "source": [
    "df_sel= unionAll([sel1, sel2])"
   ]
  },
  {
   "cell_type": "code",
   "execution_count": 15,
   "id": "civilian-protocol",
   "metadata": {},
   "outputs": [
    {
     "data": {
      "text/plain": [
       "1646717"
      ]
     },
     "execution_count": 15,
     "metadata": {},
     "output_type": "execute_result"
    }
   ],
   "source": [
    "df_sel.count()"
   ]
  },
  {
   "cell_type": "code",
   "execution_count": 16,
   "id": "explicit-health",
   "metadata": {},
   "outputs": [
    {
     "name": "stdout",
     "output_type": "stream",
     "text": [
      "+----------+\n",
      "|      term|\n",
      "+----------+\n",
      "| 36 months|\n",
      "| 36 months|\n",
      "| 60 months|\n",
      "| 60 months|\n",
      "+----------+\n",
      "\n"
     ]
    }
   ],
   "source": [
    "# As Term column has 2 same values with a blank space in front. So removing that\n",
    "df_sel.select('term').distinct().show()"
   ]
  },
  {
   "cell_type": "code",
   "execution_count": 17,
   "id": "informed-dealing",
   "metadata": {},
   "outputs": [],
   "source": [
    "from pyspark.sql.functions import when\n",
    "df_sel = df_sel.withColumn(\"term\", when(df_sel.term == \"36 months\",36).when(df_sel.term == \"60 months\",60).otherwise(df_sel.term))"
   ]
  },
  {
   "cell_type": "code",
   "execution_count": 18,
   "id": "personalized-symbol",
   "metadata": {},
   "outputs": [
    {
     "name": "stdout",
     "output_type": "stream",
     "text": [
      "+----------+\n",
      "|      term|\n",
      "+----------+\n",
      "| 36 months|\n",
      "| 60 months|\n",
      "|        60|\n",
      "|        36|\n",
      "+----------+\n",
      "\n"
     ]
    }
   ],
   "source": [
    "df_sel.select('term').distinct().show()"
   ]
  },
  {
   "cell_type": "code",
   "execution_count": 19,
   "id": "chinese-noise",
   "metadata": {},
   "outputs": [],
   "source": [
    "df_sel = df_sel.withColumn(\"term\", when(df_sel.term == \" 36 months\",36).when(df_sel.term == \" 60 months\",60).otherwise(df_sel.term))"
   ]
  },
  {
   "cell_type": "code",
   "execution_count": 20,
   "id": "finite-wildlife",
   "metadata": {},
   "outputs": [
    {
     "name": "stdout",
     "output_type": "stream",
     "text": [
      "+----+\n",
      "|term|\n",
      "+----+\n",
      "|  60|\n",
      "|  36|\n",
      "+----+\n",
      "\n"
     ]
    }
   ],
   "source": [
    "df_sel.select('term').distinct().show()"
   ]
  },
  {
   "cell_type": "code",
   "execution_count": 21,
   "id": "statewide-exhibition",
   "metadata": {},
   "outputs": [
    {
     "name": "stdout",
     "output_type": "stream",
     "text": [
      "+----------+\n",
      "|emp_length|\n",
      "+----------+\n",
      "|   9 years|\n",
      "|   5 years|\n",
      "|      null|\n",
      "|    1 year|\n",
      "|       n/a|\n",
      "|   2 years|\n",
      "|   7 years|\n",
      "|   8 years|\n",
      "|   4 years|\n",
      "|   6 years|\n",
      "|   3 years|\n",
      "| 10+ years|\n",
      "|  < 1 year|\n",
      "+----------+\n",
      "\n"
     ]
    }
   ],
   "source": [
    "# Checking unique column values in a column\n",
    "# Reference: https://stackoverflow.com/questions/38946337/fetching-distinct-values-on-a-column-using-spark-dataframe/38947136\n",
    "df_sel.select('emp_length').distinct().show()"
   ]
  },
  {
   "cell_type": "code",
   "execution_count": 22,
   "id": "square-theme",
   "metadata": {},
   "outputs": [],
   "source": [
    "# Dropping rows with null values \n",
    "df_sel=df_sel.na.drop(subset=[\"emp_length\"])"
   ]
  },
  {
   "cell_type": "code",
   "execution_count": 23,
   "id": "signed-diploma",
   "metadata": {},
   "outputs": [
    {
     "name": "stdout",
     "output_type": "stream",
     "text": [
      "+----------+\n",
      "|emp_length|\n",
      "+----------+\n",
      "|   9 years|\n",
      "|   5 years|\n",
      "|    1 year|\n",
      "|       n/a|\n",
      "|   2 years|\n",
      "|   7 years|\n",
      "|   8 years|\n",
      "|   4 years|\n",
      "|   6 years|\n",
      "|   3 years|\n",
      "| 10+ years|\n",
      "|  < 1 year|\n",
      "+----------+\n",
      "\n"
     ]
    }
   ],
   "source": [
    "df_sel.select(\"emp_length\").distinct().show(150)"
   ]
  },
  {
   "cell_type": "code",
   "execution_count": 24,
   "id": "experienced-extra",
   "metadata": {},
   "outputs": [],
   "source": [
    "df_sel=df_sel.filter(df_sel.emp_length != 'n/a')\n"
   ]
  },
  {
   "cell_type": "code",
   "execution_count": 25,
   "id": "pediatric-fiber",
   "metadata": {},
   "outputs": [
    {
     "name": "stdout",
     "output_type": "stream",
     "text": [
      "+----------+\n",
      "|emp_length|\n",
      "+----------+\n",
      "|   9 years|\n",
      "|   5 years|\n",
      "|    1 year|\n",
      "|   2 years|\n",
      "|   7 years|\n",
      "|   8 years|\n",
      "|   4 years|\n",
      "|   6 years|\n",
      "|   3 years|\n",
      "| 10+ years|\n",
      "|  < 1 year|\n",
      "+----------+\n",
      "\n"
     ]
    }
   ],
   "source": [
    "df_sel.select(\"emp_length\").distinct().show(150)"
   ]
  },
  {
   "cell_type": "code",
   "execution_count": 26,
   "id": "vietnamese-findings",
   "metadata": {},
   "outputs": [
    {
     "name": "stdout",
     "output_type": "stream",
     "text": [
      "+-------+\n",
      "|issue_d|\n",
      "+-------+\n",
      "|  7-Dec|\n",
      "| 10-Oct|\n",
      "| 16-Oct|\n",
      "| 13-Aug|\n",
      "| 14-Apr|\n",
      "| 10-Apr|\n",
      "| 13-Jan|\n",
      "|  9-Aug|\n",
      "| 16-Jun|\n",
      "| 14-Dec|\n",
      "|  8-Nov|\n",
      "| 13-May|\n",
      "| 11-Jan|\n",
      "| 17-Jan|\n",
      "|  9-May|\n",
      "| 12-Jul|\n",
      "|  8-Jul|\n",
      "| 16-Feb|\n",
      "|  9-Dec|\n",
      "| 12-Dec|\n",
      "| 10-Aug|\n",
      "| 14-Mar|\n",
      "|  8-Jan|\n",
      "| 12-Feb|\n",
      "| 14-Jul|\n",
      "| 17-Aug|\n",
      "| 17-Jun|\n",
      "|  8-Oct|\n",
      "| 10-Feb|\n",
      "|  8-Apr|\n",
      "|  8-Feb|\n",
      "| 16-Aug|\n",
      "| 15-Sep|\n",
      "|  8-May|\n",
      "| 10-Sep|\n",
      "| 15-Aug|\n",
      "| 13-Apr|\n",
      "| 15-Oct|\n",
      "| 13-Dec|\n",
      "| 14-Jun|\n",
      "| 12-Sep|\n",
      "|  8-Dec|\n",
      "| 13-Jul|\n",
      "| 13-Feb|\n",
      "| 11-Feb|\n",
      "| 10-Jul|\n",
      "|  9-Feb|\n",
      "|  7-Jul|\n",
      "| 14-Oct|\n",
      "| 11-Jul|\n",
      "| 17-Apr|\n",
      "|  9-Jun|\n",
      "|  8-Aug|\n",
      "|  8-Mar|\n",
      "| 16-Jan|\n",
      "| 13-Nov|\n",
      "| 10-Mar|\n",
      "| 12-May|\n",
      "|  7-Sep|\n",
      "| 15-Jan|\n",
      "| 11-Dec|\n",
      "| 17-Sep|\n",
      "|  7-Jun|\n",
      "| 15-Jul|\n",
      "| 12-Apr|\n",
      "| 14-Aug|\n",
      "|  9-Jul|\n",
      "|  8-Jun|\n",
      "| 13-Mar|\n",
      "| 17-Mar|\n",
      "| 11-Sep|\n",
      "| 15-Mar|\n",
      "| 15-Dec|\n",
      "| 10-Jun|\n",
      "| 13-Sep|\n",
      "| 15-May|\n",
      "| 12-Oct|\n",
      "| 15-Jun|\n",
      "| 11-Oct|\n",
      "| 14-Sep|\n",
      "|  9-Apr|\n",
      "| 15-Feb|\n",
      "|  9-Mar|\n",
      "|  7-Nov|\n",
      "| 12-Jan|\n",
      "| 10-Dec|\n",
      "| 13-Oct|\n",
      "| 16-May|\n",
      "| 11-Jun|\n",
      "| 14-Nov|\n",
      "| 17-Feb|\n",
      "| 12-Aug|\n",
      "| 17-May|\n",
      "|  9-Jan|\n",
      "| 17-Jul|\n",
      "| 12-Jun|\n",
      "| 15-Apr|\n",
      "|  7-Oct|\n",
      "| 12-Nov|\n",
      "| 16-Sep|\n",
      "| 16-Jul|\n",
      "| 16-Mar|\n",
      "| 11-May|\n",
      "| 14-Feb|\n",
      "| 11-Apr|\n",
      "|  9-Sep|\n",
      "| 14-Jan|\n",
      "| 13-Jun|\n",
      "| 11-Nov|\n",
      "| 14-May|\n",
      "| 16-Nov|\n",
      "| 10-Nov|\n",
      "| 10-Jan|\n",
      "| 12-Mar|\n",
      "|  9-Oct|\n",
      "|  7-Aug|\n",
      "|  8-Sep|\n",
      "| 11-Aug|\n",
      "| 10-May|\n",
      "| 15-Nov|\n",
      "|  9-Nov|\n",
      "| 16-Apr|\n",
      "| 11-Mar|\n",
      "| 16-Dec|\n",
      "+-------+\n",
      "\n"
     ]
    }
   ],
   "source": [
    "df_sel.select(\"issue_d\").distinct().show(150)"
   ]
  },
  {
   "cell_type": "code",
   "execution_count": 27,
   "id": "exclusive-tattoo",
   "metadata": {},
   "outputs": [],
   "source": [
    "# Refer: https://stackoverflow.com/questions/53153149/remove-last-few-characters-in-pyspark-dataframe-column\n",
    "# Creating a new column Year \n",
    "\n",
    "import pyspark.sql.functions as f\n",
    "df_sel = df_sel.withColumn(\"year\", f.split(df_sel['issue_d'], '\\-')[0])"
   ]
  },
  {
   "cell_type": "code",
   "execution_count": 28,
   "id": "usual-fossil",
   "metadata": {},
   "outputs": [
    {
     "name": "stdout",
     "output_type": "stream",
     "text": [
      "+----+\n",
      "|year|\n",
      "+----+\n",
      "|   7|\n",
      "|  15|\n",
      "|  11|\n",
      "|   8|\n",
      "|  16|\n",
      "|  17|\n",
      "|   9|\n",
      "|  10|\n",
      "|  12|\n",
      "|  13|\n",
      "|  14|\n",
      "+----+\n",
      "\n"
     ]
    }
   ],
   "source": [
    "df_sel.select(\"year\").distinct().show(160)"
   ]
  },
  {
   "cell_type": "code",
   "execution_count": 29,
   "id": "serious-sector",
   "metadata": {},
   "outputs": [],
   "source": [
    "from pyspark.sql.functions import when\n",
    "df_sel = df_sel.withColumn(\"year\", when(df_sel.year == \"15\",\"2015\").when(df_sel.year == \"16\",\"2016\").when(df_sel.year == \"7\",\"2007\").when(df_sel.year == \"8\",\"2008\").when(df_sel.year == \"9\",\"2009\").when(df_sel.year == \"10\",\"2010\").when(df_sel.year == \"11\",\"2011\").when(df_sel.year == \"12\",\"2012\").when(df_sel.year == \"13\",\"2013\").when(df_sel.year == \"14\",\"2014\").when(df_sel.year == \"17\",\"2017\").otherwise(df_sel.year))"
   ]
  },
  {
   "cell_type": "code",
   "execution_count": 30,
   "id": "careful-nutrition",
   "metadata": {},
   "outputs": [
    {
     "name": "stdout",
     "output_type": "stream",
     "text": [
      "+----+\n",
      "|year|\n",
      "+----+\n",
      "|2016|\n",
      "|2012|\n",
      "|2017|\n",
      "|2014|\n",
      "|2013|\n",
      "|2009|\n",
      "|2011|\n",
      "|2008|\n",
      "|2007|\n",
      "|2015|\n",
      "|2010|\n",
      "+----+\n",
      "\n"
     ]
    }
   ],
   "source": [
    "df_sel.select(\"year\").distinct().show(160)"
   ]
  },
  {
   "cell_type": "markdown",
   "id": "gentle-knowing",
   "metadata": {},
   "source": [
    "# Need to keep only the numerical value and remove the string"
   ]
  },
  {
   "cell_type": "code",
   "execution_count": 31,
   "id": "similar-implementation",
   "metadata": {},
   "outputs": [
    {
     "name": "stdout",
     "output_type": "stream",
     "text": [
      "+-----------------+----------+\n",
      "|emplength_cleaned|emp_length|\n",
      "+-----------------+----------+\n",
      "|               10| 10+ years|\n",
      "|                1|  < 1 year|\n",
      "|               10| 10+ years|\n",
      "|               10| 10+ years|\n",
      "|                1|    1 year|\n",
      "|                3|   3 years|\n",
      "|                8|   8 years|\n",
      "|                9|   9 years|\n",
      "|                4|   4 years|\n",
      "|                1|  < 1 year|\n",
      "+-----------------+----------+\n",
      "only showing top 10 rows\n",
      "\n"
     ]
    }
   ],
   "source": [
    "# Reference: https://spark.apache.org/docs/latest/api/python/reference/api/pyspark.sql.functions.regexp_extract.html\n",
    "# Reference: https://medium.com/analytics-vidhya/data-wrangling-in-pyspark-with-regex-ecda9b8f6256\n",
    "from pyspark.sql.functions import regexp_replace, regexp_extract\n",
    "from pyspark.sql.functions import col\n",
    "\n",
    "regex_string=\"\\\\d+\" # only have digits\n",
    "df_sel.select(regexp_extract(col(\"emp_length\"), regex_string, 0).alias(\"emplength_cleaned\"),col(\"emp_length\")).show(10) # only extract digits"
   ]
  },
  {
   "cell_type": "code",
   "execution_count": 32,
   "id": "massive-athens",
   "metadata": {},
   "outputs": [],
   "source": [
    "# Reference: https://sparkbyexamples.com/spark/spark-dataframe-withcolumn/\n",
    "# Here creating a new column term_cleaned which has only numerical values\n",
    "# Here creating a new column emplen_cleaned which has only numerical values\n",
    "df_sel=df_sel.withColumn(\"emplen_cleaned\",regexp_extract(col(\"emp_length\"),\"\\\\d+\",0))"
   ]
  },
  {
   "cell_type": "code",
   "execution_count": 33,
   "id": "great-public",
   "metadata": {},
   "outputs": [
    {
     "name": "stdout",
     "output_type": "stream",
     "text": [
      "+----------+--------------+\n",
      "|emp_length|emplen_cleaned|\n",
      "+----------+--------------+\n",
      "| 10+ years|            10|\n",
      "|  < 1 year|             1|\n",
      "| 10+ years|            10|\n",
      "| 10+ years|            10|\n",
      "|    1 year|             1|\n",
      "|   3 years|             3|\n",
      "|   8 years|             8|\n",
      "|   9 years|             9|\n",
      "|   4 years|             4|\n",
      "|  < 1 year|             1|\n",
      "|   5 years|             5|\n",
      "| 10+ years|            10|\n",
      "|  < 1 year|             1|\n",
      "|   3 years|             3|\n",
      "|   3 years|             3|\n",
      "+----------+--------------+\n",
      "only showing top 15 rows\n",
      "\n"
     ]
    }
   ],
   "source": [
    "df_sel.select('emp_length','emplen_cleaned').show(15)"
   ]
  },
  {
   "cell_type": "markdown",
   "id": "australian-model",
   "metadata": {},
   "source": [
    "# Observations: Columns Term and Emplen is cleaned."
   ]
  },
  {
   "cell_type": "code",
   "execution_count": 34,
   "id": "canadian-bookmark",
   "metadata": {},
   "outputs": [
    {
     "name": "stdout",
     "output_type": "stream",
     "text": [
      "+----+--------------+-----+------------------+--------+----------+-----------+----------------+---------+----------+----------+-----+-----------+----------+---------+---------+-----------+-------+----+--------------+\n",
      "|term|home_ownership|grade|           purpose|int_rate|addr_state|loan_status|application_type|loan_amnt|emp_length|annual_inc|  dti|delinq_2yrs|revol_util|total_acc|dti_joint|installment|issue_d|year|emplen_cleaned|\n",
      "+----+--------------+-----+------------------+--------+----------+-----------+----------------+---------+----------+----------+-----+-----------+----------+---------+---------+-----------+-------+----+--------------+\n",
      "|  36|          RENT|    B|       credit_card|   10.65|        AZ| Fully Paid|      INDIVIDUAL|     5000| 10+ years|     24000|27.65|          0|      83.7|        9|     null|     162.87| 11-Dec|2011|            10|\n",
      "|  60|          RENT|    C|               car|   15.27|        GA|Charged Off|      INDIVIDUAL|     2500|  < 1 year|     30000|    1|          0|       9.4|        4|     null|      59.83| 11-Dec|2011|             1|\n",
      "|  36|          RENT|    C|    small_business|   15.96|        IL| Fully Paid|      INDIVIDUAL|     2400| 10+ years|     12252| 8.72|          0|      98.5|       10|     null|      84.33| 11-Dec|2011|            10|\n",
      "|  36|          RENT|    C|             other|   13.49|        CA| Fully Paid|      INDIVIDUAL|    10000| 10+ years|     49200|   20|          0|        21|       37|     null|     339.31| 11-Dec|2011|            10|\n",
      "|  60|          RENT|    B|             other|   12.69|        OR|    Current|      INDIVIDUAL|     3000|    1 year|     80000|17.94|          0|      53.9|       38|     null|      67.79| 11-Dec|2011|             1|\n",
      "|  36|          RENT|    A|           wedding|     7.9|        AZ| Fully Paid|      INDIVIDUAL|     5000|   3 years|     36000| 11.2|          0|      28.3|       12|     null|     156.46| 11-Dec|2011|             3|\n",
      "|  60|          RENT|    C|debt_consolidation|   15.96|        NC|    Current|      INDIVIDUAL|     7000|   8 years|     47004|23.51|          0|      85.6|       11|     null|     170.08| 11-Dec|2011|             8|\n",
      "|  36|          RENT|    E|               car|   18.64|        CA| Fully Paid|      INDIVIDUAL|     3000|   9 years|     48000| 5.35|          0|      87.5|        4|     null|     109.43| 11-Dec|2011|             9|\n",
      "|  60|           OWN|    F|    small_business|   21.28|        CA|Charged Off|      INDIVIDUAL|     5600|   4 years|     40000| 5.55|          0|      32.6|       13|     null|     152.39| 11-Dec|2011|             4|\n",
      "|  60|          RENT|    B|             other|   12.69|        TX|Charged Off|      INDIVIDUAL|     5375|  < 1 year|     15000|18.08|          0|      36.5|        3|     null|     121.45| 11-Dec|2011|             1|\n",
      "|  60|           OWN|    C|debt_consolidation|   14.65|        AZ| Fully Paid|      INDIVIDUAL|     6500|   5 years|     72000|16.12|          0|      20.6|       23|     null|     153.45| 11-Dec|2011|             5|\n",
      "|  36|           OWN|    B|debt_consolidation|   12.69|        CA| Fully Paid|      INDIVIDUAL|    12000| 10+ years|     75000|10.78|          0|      67.1|       34|     null|     402.54| 11-Dec|2011|            10|\n",
      "|  36|          RENT|    C|debt_consolidation|   13.49|        VA|Charged Off|      INDIVIDUAL|     9000|  < 1 year|     30000|10.08|          0|      91.7|        9|     null|     305.38| 11-Dec|2011|             1|\n",
      "|  36|          RENT|    B|       credit_card|    9.91|        IL| Fully Paid|      INDIVIDUAL|     3000|   3 years|     15000|12.56|          0|      43.1|       11|     null|      96.68| 11-Dec|2011|             3|\n",
      "|  36|          RENT|    B|             other|   10.65|        CA|Charged Off|      INDIVIDUAL|    10000|   3 years|    100000| 7.06|          0|      55.5|       29|     null|     325.74| 11-Dec|2011|             3|\n",
      "|  36|          RENT|    D|debt_consolidation|   16.29|        MO| Fully Paid|      INDIVIDUAL|     1000|  < 1 year|     28000|20.31|          0|      81.5|       23|     null|      35.31| 11-Dec|2011|             1|\n",
      "|  36|          RENT|    C|  home_improvement|   15.27|        CA| Fully Paid|      INDIVIDUAL|    10000|   4 years|     42000| 18.6|          0|      70.2|       28|     null|     347.98| 11-Dec|2011|             4|\n",
      "|  36|      MORTGAGE|    A|    major_purchase|    6.03|        CT| Fully Paid|      INDIVIDUAL|     3600| 10+ years|    110000|10.52|          0|        16|       42|     null|     109.57| 11-Dec|2011|            10|\n",
      "|  36|      MORTGAGE|    B|           medical|   11.71|        UT| Fully Paid|      INDIVIDUAL|     6000|    1 year|     84000|18.44|          2|     37.73|       14|     null|     198.46| 11-Dec|2011|             1|\n",
      "|  36|          RENT|    A|debt_consolidation|    6.03|        CA| Fully Paid|      INDIVIDUAL|     9200|   6 years|  77385.19| 9.86|          0|      23.1|       28|     null|     280.01| 11-Dec|2011|             6|\n",
      "+----+--------------+-----+------------------+--------+----------+-----------+----------------+---------+----------+----------+-----+-----------+----------+---------+---------+-----------+-------+----+--------------+\n",
      "only showing top 20 rows\n",
      "\n"
     ]
    }
   ],
   "source": [
    "df_sel.show()"
   ]
  },
  {
   "cell_type": "code",
   "execution_count": 35,
   "id": "metropolitan-depression",
   "metadata": {},
   "outputs": [],
   "source": [
    " df_sel=df_sel.withColumn(\"loan_amnt\",col(\"loan_amnt\").cast(\"Integer\"))\n",
    "df_sel=df_sel.withColumn(\"annual_inc\",col(\"annual_inc\").cast(\"Integer\"))"
   ]
  },
  {
   "cell_type": "code",
   "execution_count": 36,
   "id": "seventh-business",
   "metadata": {},
   "outputs": [
    {
     "data": {
      "text/plain": [
       "0.2956565059605619"
      ]
     },
     "execution_count": 36,
     "metadata": {},
     "output_type": "execute_result"
    }
   ],
   "source": [
    "# Checking correlation between Annual Income and Loan Amount requested\n",
    "df_sel.stat.corr('annual_inc','loan_amnt')"
   ]
  },
  {
   "cell_type": "markdown",
   "id": "detailed-things",
   "metadata": {},
   "source": [
    "# Observations: There is no lot of correlation between Annual Income and Loan Amount requested"
   ]
  },
  {
   "cell_type": "code",
   "execution_count": 37,
   "id": "alpha-microwave",
   "metadata": {},
   "outputs": [
    {
     "name": "stdout",
     "output_type": "stream",
     "text": [
      "+--------------------+------+------+------+------+-----+-----+----+\n",
      "|   loan_status_grade|     A|     B|     C|     D|    E|    F|   G|\n",
      "+--------------------+------+------+------+------+-----+-----+----+\n",
      "|     In Grace Period|   670|  2644|  4108|  2622| 1459|  582| 204|\n",
      "|          Fully Paid| 58996|101486| 88315| 45522|19959| 7312|2027|\n",
      "|Does not meet the...|     7|    81|   145|   194|  156|   92|  71|\n",
      "|             Default|    42|   192|   357|   303|  189|   79|  21|\n",
      "|  Late (31-120 days)|  1074|  4659|  8110|  5751| 3447| 1478| 549|\n",
      "|   Late (16-30 days)|   338|  1133|  1898|  1262|  728|  303| 116|\n",
      "|             Current|191758|329310|333707|147897|67932|20044|5779|\n",
      "|Does not meet the...|    88|   265|   475|   489|  378|  152| 122|\n",
      "|              Issued|  1339|  2342|  2293|  1078|  558|  182|  37|\n",
      "|         Charged Off|  3876| 15072| 22632| 17482|10798| 5204|1559|\n",
      "+--------------------+------+------+------+------+-----+-----+----+\n",
      "\n"
     ]
    }
   ],
   "source": [
    "# Getting details about loan Status with respect to the Grade given by Lending Club itself\n",
    "df_sel.stat.crosstab('loan_status','grade').show()"
   ]
  },
  {
   "cell_type": "markdown",
   "id": "entire-metabolism",
   "metadata": {},
   "source": [
    "# Observations: Majority of Loan Requested are Fully Paid, Current or Charged Off  rest in Late or Grace Period Status"
   ]
  },
  {
   "cell_type": "code",
   "execution_count": 38,
   "id": "studied-republican",
   "metadata": {},
   "outputs": [
    {
     "name": "stdout",
     "output_type": "stream",
     "text": [
      "+------------------+------+\n",
      "|           purpose| count|\n",
      "+------------------+------+\n",
      "|           wedding|  2318|\n",
      "|       educational|   414|\n",
      "|             other| 86928|\n",
      "|    small_business| 18101|\n",
      "|debt_consolidation|903768|\n",
      "|       credit_card|342393|\n",
      "|            moving| 10696|\n",
      "|          vacation| 10305|\n",
      "|  renewable_energy|  1027|\n",
      "|             house|  6911|\n",
      "|               car| 16613|\n",
      "|    major_purchase| 33554|\n",
      "|           medical| 17342|\n",
      "|  home_improvement|101159|\n",
      "+------------------+------+\n",
      "\n"
     ]
    }
   ],
   "source": [
    "# Checking the purpose for which are loan are requested\n",
    "df_sel.groupby('purpose').count().show()"
   ]
  },
  {
   "cell_type": "markdown",
   "id": "literary-responsibility",
   "metadata": {},
   "source": [
    "# Observations: Major reasons for which loans are taken are Debt Consolidation , Credit Card and Home Improvement"
   ]
  },
  {
   "cell_type": "code",
   "execution_count": 39,
   "id": "widespread-response",
   "metadata": {},
   "outputs": [
    {
     "data": {
      "text/plain": [
       "[8000.0, 13000.0, 20000.0, 28000.0, 34550.0]"
      ]
     },
     "execution_count": 39,
     "metadata": {},
     "output_type": "execute_result"
    }
   ],
   "source": [
    "# Quantile\n",
    "quantile=[0.25,0.50,0.75,0.90,0.95]\n",
    "relError=0.0 # Relative Error # No error then it will take a little bit more time to give results\n",
    "df_sel.stat.approxQuantile(\"loan_amnt\",quantile,relError)"
   ]
  },
  {
   "cell_type": "markdown",
   "id": "color-recipe",
   "metadata": {},
   "source": [
    "# Observations: 25 percentile: 8000, 50 percentile: 13000 , 75 percentile: 20000 , 90 percentile: 28000 , 95 percentile: 34550"
   ]
  },
  {
   "cell_type": "code",
   "execution_count": 40,
   "id": "professional-smart",
   "metadata": {},
   "outputs": [],
   "source": [
    "# Cleaning the column revol_util\n",
    "df_sel=df_sel.withColumn(\"revolutil_cleaned\",regexp_extract(col(\"revol_util\"),\"\\\\d+\",0)) # extract only digits"
   ]
  },
  {
   "cell_type": "code",
   "execution_count": 41,
   "id": "flush-arbitration",
   "metadata": {},
   "outputs": [
    {
     "name": "stdout",
     "output_type": "stream",
     "text": [
      "+-------+-----------------+------------------+\n",
      "|summary|       revol_util| revolutil_cleaned|\n",
      "+-------+-----------------+------------------+\n",
      "|  count|          1550560|           1550560|\n",
      "|   mean|52.92789445748659| 52.49756797544113|\n",
      "| stddev|24.15409221253993|24.156217626853653|\n",
      "|    min|                0|                 0|\n",
      "|    max|             99.9|                99|\n",
      "+-------+-----------------+------------------+\n",
      "\n"
     ]
    }
   ],
   "source": [
    "df_sel.describe('revol_util','revolutil_cleaned').show()"
   ]
  },
  {
   "cell_type": "code",
   "execution_count": 42,
   "id": "stopped-frost",
   "metadata": {},
   "outputs": [],
   "source": [
    "# As there are null creating a function to fill null values with avg values of that column\n",
    "# Reference: https://stackoverflow.com/questions/37749759/fill-pyspark-dataframe-column-null-values-with-average-value-from-same-column\n",
    "from pyspark.sql.functions import *\n",
    "from pyspark.sql.types import *\n",
    "def fill_avg(df,colname):\n",
    "    return df.select(colname).agg(avg(colname))"
   ]
  },
  {
   "cell_type": "code",
   "execution_count": 43,
   "id": "distant-damages",
   "metadata": {},
   "outputs": [],
   "source": [
    "rev_avg=fill_avg(df_sel,'revolutil_cleaned')"
   ]
  },
  {
   "cell_type": "code",
   "execution_count": 44,
   "id": "earlier-success",
   "metadata": {},
   "outputs": [],
   "source": [
    "from pyspark.sql.functions import lit\n",
    "# From fill_avg function take first record which will avg of particular row and assigning to new column called rev_avg and passing lit(rev_agg) wherever it is null \n",
    "rev_avg=fill_avg(df_sel,'revolutil_cleaned').first()[0]\n",
    "df_sel=df_sel.withColumn('rev_avg',lit(rev_avg))"
   ]
  },
  {
   "cell_type": "code",
   "execution_count": 45,
   "id": "level-texas",
   "metadata": {},
   "outputs": [],
   "source": [
    "from pyspark.sql.functions import coalesce\n",
    "# Adding a column revolutil_cleaned using coalesce where 1 column is cleaned data which takes all the not null values and wherever there is null it will use column rev_avg to fill null values\n",
    "df_sel=df_sel.withColumn('revolutil_cleaned',coalesce(col('revolutil_cleaned'),col('rev_avg')))"
   ]
  },
  {
   "cell_type": "code",
   "execution_count": 46,
   "id": "molecular-mongolia",
   "metadata": {},
   "outputs": [],
   "source": [
    "# Changing the datatype \n",
    "df_sel=df_sel.withColumn(\"revolutil_cleaned\",df_sel[\"revolutil_cleaned\"].cast(\"double\"))"
   ]
  },
  {
   "cell_type": "code",
   "execution_count": 47,
   "id": "fatty-prompt",
   "metadata": {},
   "outputs": [
    {
     "name": "stdout",
     "output_type": "stream",
     "text": [
      "+-------+-----------------+------------------+\n",
      "|summary|       revol_util| revolutil_cleaned|\n",
      "+-------+-----------------+------------------+\n",
      "|  count|          1550560|           1551529|\n",
      "|   mean|52.92789445748659|52.497567975441186|\n",
      "| stddev|24.15409221253993|24.148673118870022|\n",
      "|    min|                0|               0.0|\n",
      "|    max|             99.9|             892.0|\n",
      "+-------+-----------------+------------------+\n",
      "\n"
     ]
    }
   ],
   "source": [
    "df_sel.describe('revol_util','revolutil_cleaned').show()"
   ]
  },
  {
   "cell_type": "markdown",
   "id": "cultural-psychiatry",
   "metadata": {},
   "source": [
    "# So column revolutil is fixed removed null values and changed datatype"
   ]
  },
  {
   "cell_type": "code",
   "execution_count": 48,
   "id": "pending-albania",
   "metadata": {},
   "outputs": [
    {
     "name": "stdout",
     "output_type": "stream",
     "text": [
      "+----+--------------+-----+-------+--------+----------+-----------+----------------+---------+----------+----------+---+-----------+----------+---------+---------+-----------+-------+----+--------------+-----------------+-------+\n",
      "|term|home_ownership|grade|purpose|int_rate|addr_state|loan_status|application_type|loan_amnt|emp_length|annual_inc|dti|delinq_2yrs|revol_util|total_acc|dti_joint|installment|issue_d|year|emplen_cleaned|revolutil_cleaned|rev_avg|\n",
      "+----+--------------+-----+-------+--------+----------+-----------+----------------+---------+----------+----------+---+-----------+----------+---------+---------+-----------+-------+----+--------------+-----------------+-------+\n",
      "|   0|             0|    0|      0|       0|         0|          0|               0|        0|         0|         0|  0|          0|         0|        0|        0|          0|      0|   0|             0|                0|      0|\n",
      "+----+--------------+-----+-------+--------+----------+-----------+----------------+---------+----------+----------+---+-----------+----------+---------+---------+-----------+-------+----+--------------+-----------------+-------+\n",
      "\n"
     ]
    }
   ],
   "source": [
    "# Checking null values in each column\n",
    "# Reference: https://stackoverflow.com/questions/44627386/how-to-find-count-of-null-and-nan-values-for-each-column-in-a-pyspark-dataframe?rq=1\n",
    "from pyspark.sql.functions import isnan, when, count, col\n",
    "\n",
    "df_sel.select([count(when(isnan(c), c)).alias(c) for c in df_sel.columns]).show()"
   ]
  },
  {
   "cell_type": "markdown",
   "id": "varied-spice",
   "metadata": {},
   "source": [
    "# Observations: So no null values"
   ]
  },
  {
   "cell_type": "code",
   "execution_count": 49,
   "id": "buried-mountain",
   "metadata": {},
   "outputs": [],
   "source": [
    "# Creating a new column whether Loan is bad or good\n",
    "df_sel=df_sel.withColumn(\"bad_loan\",when(df_sel.loan_status.isin([\"Charged Off\",\"Late (31-120 days)\",\"Late (16-30 days)\",\"In Grace Period\",\"Default\",\"Does not meet the credit policy. Status:Charged Off \"]),'Yes').otherwise('No'))"
   ]
  },
  {
   "cell_type": "code",
   "execution_count": 50,
   "id": "dressed-utilization",
   "metadata": {},
   "outputs": [
    {
     "name": "stdout",
     "output_type": "stream",
     "text": [
      "+--------+-------+\n",
      "|bad_loan|  count|\n",
      "+--------+-------+\n",
      "|      No|1430588|\n",
      "|     Yes| 120941|\n",
      "+--------+-------+\n",
      "\n"
     ]
    }
   ],
   "source": [
    "df_sel.groupBy('bad_loan').count().show()"
   ]
  },
  {
   "cell_type": "markdown",
   "id": "modular-scenario",
   "metadata": {},
   "source": [
    "# Observations: Majority of loan requested are  Good Loan requested by customers"
   ]
  },
  {
   "cell_type": "code",
   "execution_count": 51,
   "id": "valid-limitation",
   "metadata": {},
   "outputs": [
    {
     "name": "stdout",
     "output_type": "stream",
     "text": [
      "+----+--------------+-----+------------------+--------+----------+-----------+----------------+---------+----------+----------+-----+-----------+----------+---------+---------+-----------+-------+----+--------------+-----------------+-----------------+--------+\n",
      "|term|home_ownership|grade|           purpose|int_rate|addr_state|loan_status|application_type|loan_amnt|emp_length|annual_inc|  dti|delinq_2yrs|revol_util|total_acc|dti_joint|installment|issue_d|year|emplen_cleaned|revolutil_cleaned|          rev_avg|bad_loan|\n",
      "+----+--------------+-----+------------------+--------+----------+-----------+----------------+---------+----------+----------+-----+-----------+----------+---------+---------+-----------+-------+----+--------------+-----------------+-----------------+--------+\n",
      "|  60|          RENT|    C|               car|   15.27|        GA|Charged Off|      INDIVIDUAL|     2500|  < 1 year|     30000|    1|          0|       9.4|        4|     null|      59.83| 11-Dec|2011|             1|              9.0|52.49756797544113|     Yes|\n",
      "|  60|           OWN|    F|    small_business|   21.28|        CA|Charged Off|      INDIVIDUAL|     5600|   4 years|     40000| 5.55|          0|      32.6|       13|     null|     152.39| 11-Dec|2011|             4|             32.0|52.49756797544113|     Yes|\n",
      "|  60|          RENT|    B|             other|   12.69|        TX|Charged Off|      INDIVIDUAL|     5375|  < 1 year|     15000|18.08|          0|      36.5|        3|     null|     121.45| 11-Dec|2011|             1|             36.0|52.49756797544113|     Yes|\n",
      "|  36|          RENT|    C|debt_consolidation|   13.49|        VA|Charged Off|      INDIVIDUAL|     9000|  < 1 year|     30000|10.08|          0|      91.7|        9|     null|     305.38| 11-Dec|2011|             1|             91.0|52.49756797544113|     Yes|\n",
      "|  36|          RENT|    B|             other|   10.65|        CA|Charged Off|      INDIVIDUAL|    10000|   3 years|    100000| 7.06|          0|      55.5|       29|     null|     325.74| 11-Dec|2011|             3|             55.0|52.49756797544113|     Yes|\n",
      "|  36|          RENT|    B|debt_consolidation|   12.42|        FL|Charged Off|      INDIVIDUAL|    21000| 10+ years|    105000|13.22|          0|      90.3|       38|     null|     701.73| 11-Dec|2011|            10|             90.0|52.49756797544113|     Yes|\n",
      "|  36|          RENT|    B|    major_purchase|   11.71|        CA|Charged Off|      INDIVIDUAL|     6000|    1 year|     76000|  2.4|          0|      29.7|        7|     null|     198.46| 11-Dec|2011|             1|             29.0|52.49756797544113|     Yes|\n",
      "|  36|          RENT|    C|debt_consolidation|   14.27|        NY|Charged Off|      INDIVIDUAL|    15000|   9 years|     60000|15.22|          0|      57.6|       11|     null|     514.64| 11-Dec|2011|             9|             57.0|52.49756797544113|     Yes|\n",
      "|  60|          RENT|    D|             other|   16.77|        PA|Charged Off|      INDIVIDUAL|     5000|   2 years|     50004|13.97|          3|      59.5|       22|     null|     123.65| 11-Dec|2011|             2|             59.0|52.49756797544113|     Yes|\n",
      "|  36|      MORTGAGE|    A|debt_consolidation|     8.9|        OH|Charged Off|      INDIVIDUAL|     5000| 10+ years|    100000|16.33|          0|      62.1|       35|     null|     158.77| 11-Dec|2011|            10|             62.0|52.49756797544113|     Yes|\n",
      "|  36|      MORTGAGE|    B|debt_consolidation|    9.91|        IL|Charged Off|      INDIVIDUAL|    15000|   8 years|     80000| 9.12|          0|      63.7|       28|     null|     483.38| 11-Dec|2011|             8|             63.0|52.49756797544113|     Yes|\n",
      "|  36|          RENT|    C|               car|   15.96|        CA|Charged Off|      INDIVIDUAL|    12000|   4 years|     50000|20.88|          0|      90.8|       11|     null|     421.65| 11-Dec|2011|             4|             90.0|52.49756797544113|     Yes|\n",
      "|  60|          RENT|    E|debt_consolidation|   19.91|        WA|Charged Off|      INDIVIDUAL|    21000|   7 years|     50000|21.58|          0|      97.6|       14|     null|     555.33| 11-Dec|2011|             7|             97.0|52.49756797544113|     Yes|\n",
      "|  60|          RENT|    B|debt_consolidation|   10.65|        OH|Charged Off|      INDIVIDUAL|    10000| 10+ years|     45996|21.73|          0|      30.1|       15|     null|     215.69| 11-Dec|2011|            10|             30.0|52.49756797544113|     Yes|\n",
      "|  60|          RENT|    D|debt_consolidation|   17.27|        MN|Charged Off|      INDIVIDUAL|    12500|   5 years|     30000|13.16|          0|      70.8|       28|     null|     223.11| 11-Dec|2011|             5|             70.0|52.49756797544113|     Yes|\n",
      "|  60|          RENT|    F|    small_business|   21.28|        CA|Charged Off|      INDIVIDUAL|     8200|   4 years|     75000|12.48|          0|      73.9|       11|     null|     223.14| 11-Dec|2011|             4|             73.0|52.49756797544113|     Yes|\n",
      "|  36|          RENT|    D|debt_consolidation|   16.77|        CA|Charged Off|      INDIVIDUAL|     6400|   5 years|     75000|20.22|          0|      67.5|       27|     null|     227.45| 11-Dec|2011|             5|             67.0|52.49756797544113|     Yes|\n",
      "|  60|      MORTGAGE|    D|       credit_card|   17.27|        WA|Charged Off|      INDIVIDUAL|    17500|   7 years|     45000|21.31|          0|      86.1|       26|     null|     437.47| 11-Dec|2011|             7|             86.0|52.49756797544113|     Yes|\n",
      "|  36|          RENT|    B|debt_consolidation|    9.91|        CA|Charged Off|      INDIVIDUAL|     6200|   2 years|     25000|20.64|          0|      47.7|       12|     null|      199.8| 11-Dec|2011|             2|             47.0|52.49756797544113|     Yes|\n",
      "|  60|          RENT|    D|debt_consolidation|   16.77|        TX|Charged Off|      INDIVIDUAL|    18825| 10+ years|     38000|23.18|          0|      79.7|        7|     null|     465.53| 11-Dec|2011|            10|             79.0|52.49756797544113|     Yes|\n",
      "+----+--------------+-----+------------------+--------+----------+-----------+----------------+---------+----------+----------+-----+-----------+----------+---------+---------+-----------+-------+----+--------------+-----------------+-----------------+--------+\n",
      "only showing top 20 rows\n",
      "\n"
     ]
    }
   ],
   "source": [
    "# Checking the records where bad_loan is Yes\n",
    "df_sel.filter(df_sel.bad_loan=='Yes').show()"
   ]
  },
  {
   "cell_type": "markdown",
   "id": "spectacular-saturn",
   "metadata": {},
   "source": [
    "# Observations: Wherever there is bad_loan is Yes the interest rate is high"
   ]
  },
  {
   "cell_type": "code",
   "execution_count": 52,
   "id": "occasional-procurement",
   "metadata": {},
   "outputs": [],
   "source": [
    "# Dropping few columns which are fixed\n",
    "df_sel_final=df_sel.drop('revol_util','term')"
   ]
  },
  {
   "cell_type": "markdown",
   "id": "contained-fever",
   "metadata": {},
   "source": [
    "# Exploratory Data Analysis"
   ]
  },
  {
   "cell_type": "code",
   "execution_count": 53,
   "id": "electric-academy",
   "metadata": {},
   "outputs": [],
   "source": [
    "# Issuance of Loans yearly\n",
    "x=df_sel.groupBy(\"year\").count()"
   ]
  },
  {
   "cell_type": "code",
   "execution_count": 54,
   "id": "catholic-stone",
   "metadata": {},
   "outputs": [],
   "source": [
    "z=x.toPandas()"
   ]
  },
  {
   "cell_type": "code",
   "execution_count": 55,
   "id": "indian-waters",
   "metadata": {},
   "outputs": [
    {
     "data": {
      "image/png": "[encoded data removed]",
      "text/plain": [
       "<Figure size 432x288 with 1 Axes>"
      ]
     },
     "metadata": {
      "needs_background": "light"
     },
     "output_type": "display_data"
    }
   ],
   "source": [
    "import matplotlib.pyplot as plt\n",
    "import seaborn as sns\n",
    "sns.barplot(data = z, x = 'year',y='count')\n",
    "plt.xlabel('Year')\n",
    "plt.ylabel('Total Loans Issued')\n",
    "plt.title(\"Total Loans Issued yearly\")\n",
    "display()"
   ]
  },
  {
   "cell_type": "markdown",
   "id": "single-roommate",
   "metadata": {},
   "source": [
    "# Observations: Issuance of loans were very low till 2012.\n",
    "# From 2013 the loans issuance are high "
   ]
  },
  {
   "cell_type": "code",
   "execution_count": 56,
   "id": "enclosed-liverpool",
   "metadata": {},
   "outputs": [
    {
     "name": "stdout",
     "output_type": "stream",
     "text": [
      "+----------+--------------+\n",
      "|addr_state|sum(loan_amnt)|\n",
      "+----------+--------------+\n",
      "|        CA|    3291080025|\n",
      "|        TX|    2018707775|\n",
      "|        NY|    1901631025|\n",
      "|        FL|    1516821200|\n",
      "|        IL|     968708150|\n",
      "|        NJ|     912728475|\n",
      "|        PA|     789485625|\n",
      "|        GA|     765957850|\n",
      "|        OH|     741183200|\n",
      "|        VA|     715008650|\n",
      "|        NC|     629187050|\n",
      "|        MD|     584619275|\n",
      "|        MA|     571337850|\n",
      "|        MI|     566298575|\n",
      "|        AZ|     517167000|\n",
      "|        WA|     493479575|\n",
      "|        CO|     491436825|\n",
      "|        MN|     407770900|\n",
      "|        CT|     374395650|\n",
      "|        IN|     373529075|\n",
      "+----------+--------------+\n",
      "only showing top 20 rows\n",
      "\n"
     ]
    }
   ],
   "source": [
    "# Reference: https://sparkbyexamples.com/pyspark/pyspark-groupby-explained-with-example/\n",
    "# Reference: https://stackoverflow.com/questions/34514545/spark-dataframe-groupby-and-sort-in-the-descending-order-pyspark\n",
    "# Total Loan Amount across each State\n",
    "a=df_sel.groupBy(\"addr_state\").sum(\"loan_amnt\").sort(desc(\"sum(loan_amnt)\")).show()"
   ]
  },
  {
   "cell_type": "code",
   "execution_count": 57,
   "id": "classical-monte",
   "metadata": {},
   "outputs": [
    {
     "name": "stdout",
     "output_type": "stream",
     "text": [
      "+----------+------+\n",
      "|addr_state| count|\n",
      "+----------+------+\n",
      "|        CA|218904|\n",
      "|        TX|129412|\n",
      "|        NY|129108|\n",
      "|        FL|107005|\n",
      "|        IL| 63087|\n",
      "|        NJ| 58241|\n",
      "|        PA| 53902|\n",
      "|        OH| 51805|\n",
      "|        GA| 50647|\n",
      "|        VA| 44797|\n",
      "|        NC| 42809|\n",
      "|        MI| 39357|\n",
      "|        MD| 37200|\n",
      "|        MA| 36526|\n",
      "|        AZ| 35809|\n",
      "|        CO| 32888|\n",
      "|        WA| 32518|\n",
      "|        MN| 28211|\n",
      "|        IN| 25473|\n",
      "|        MO| 24690|\n",
      "+----------+------+\n",
      "only showing top 20 rows\n",
      "\n"
     ]
    }
   ],
   "source": [
    "a=df_sel.groupBy(\"addr_state\").count().sort(desc(\"count\")).show()"
   ]
  },
  {
   "cell_type": "markdown",
   "id": "dying-sixth",
   "metadata": {},
   "source": [
    "# Observations: California, New York, Texas and Florida has maximum loan amount total as well as maximum number of loans requested"
   ]
  },
  {
   "cell_type": "code",
   "execution_count": 58,
   "id": "impressive-douglas",
   "metadata": {},
   "outputs": [],
   "source": [
    "# Creating a new cleaned column of interest rate\n",
    "df_sel=df_sel.withColumn(\"int_rate_cleaned\",regexp_extract(col(\"int_rate\"),\"\\\\d+\",0))"
   ]
  },
  {
   "cell_type": "code",
   "execution_count": 59,
   "id": "tribal-layout",
   "metadata": {},
   "outputs": [
    {
     "name": "stdout",
     "output_type": "stream",
     "text": [
      "+---------------------+\n",
      "|avg(int_rate_cleaned)|\n",
      "+---------------------+\n",
      "|   12.624228744677024|\n",
      "+---------------------+\n",
      "\n"
     ]
    }
   ],
   "source": [
    "# Overall Average Interest rate across USA\n",
    "# Refer: https://stackoverflow.com/questions/32550478/pyspark-take-average-of-a-column-after-using-filter-function\n",
    "\n",
    "df_sel.agg(avg(col(\"int_rate_cleaned\"))).show()"
   ]
  },
  {
   "cell_type": "code",
   "execution_count": 60,
   "id": "roman-setting",
   "metadata": {},
   "outputs": [],
   "source": [
    "df_sel=df_sel.withColumn(\"int_rate_cleaned\",df_sel[\"int_rate_cleaned\"].cast(\"double\"))"
   ]
  },
  {
   "cell_type": "code",
   "execution_count": 61,
   "id": "worth-auckland",
   "metadata": {},
   "outputs": [
    {
     "name": "stdout",
     "output_type": "stream",
     "text": [
      "+----------+---------------------+\n",
      "|addr_state|avg(int_rate_cleaned)|\n",
      "+----------+---------------------+\n",
      "|        HI|   13.308980015572281|\n",
      "|        AL|   13.080821481638718|\n",
      "|        ID|   12.965239294710328|\n",
      "|        MS|    12.95678553739475|\n",
      "|        AK|   12.868769883351007|\n",
      "|        TN|    12.85865947676623|\n",
      "|        AR|   12.851054442777729|\n",
      "|        ND|   12.838009049773756|\n",
      "|        NE|   12.826021180030256|\n",
      "|        SC|   12.811548017716323|\n",
      "|        NV|   12.798302382292253|\n",
      "|        OK|   12.797348081968375|\n",
      "|        WY|    12.77151248164464|\n",
      "|        MD|   12.754623655913978|\n",
      "|        NC|   12.750402952650143|\n",
      "|        KY|   12.744309764309765|\n",
      "|        NY|   12.740930074046535|\n",
      "|        DE|    12.73727837900069|\n",
      "|        IN|   12.732108507046677|\n",
      "|        FL|   12.730106069809821|\n",
      "|        LA|   12.724725274725275|\n",
      "|        SD|   12.719005663939585|\n",
      "|        GA|   12.711236598416491|\n",
      "|        UT|   12.709438968915846|\n",
      "|        WA|   12.704809643889538|\n",
      "|        NM|   12.703753680078508|\n",
      "|        PA|   12.689028236429076|\n",
      "|        WV|   12.679300905453779|\n",
      "|        MI|   12.679065985720456|\n",
      "|        OH|   12.654473506418299|\n",
      "|        VA|    12.64551197624841|\n",
      "|        MO|   12.581692993114622|\n",
      "|        KS|   12.553294573643411|\n",
      "|        RI|   12.552631578947368|\n",
      "|        TX|    12.54797854912991|\n",
      "|        AZ|    12.52592923566701|\n",
      "|        CA|   12.517573913679056|\n",
      "|        MN|   12.514409272978625|\n",
      "|        NJ|   12.511855909067496|\n",
      "|        CT|   12.508429819215925|\n",
      "|        IL|   12.488341496663338|\n",
      "|        OR|    12.47404363999778|\n",
      "|        MT|    12.45790934320074|\n",
      "|        CO|   12.448035757723181|\n",
      "|        WI|    12.38869067982992|\n",
      "|        ME|   12.367782272894447|\n",
      "|        VT|   12.290283645141823|\n",
      "|        NH|   12.238484494615285|\n",
      "|        IA|   12.214285714285714|\n",
      "|        MA|   12.159995619558671|\n",
      "+----------+---------------------+\n",
      "only showing top 50 rows\n",
      "\n"
     ]
    }
   ],
   "source": [
    "# Refer: https://stackoverflow.com/questions/32550478/pyspark-take-average-of-a-column-after-using-filter-function\n",
    "# Average interest rate across each US state\n",
    "df_sel.groupBy(\"addr_state\").avg(\"int_rate_cleaned\").sort(desc(\"avg(int_rate_cleaned)\")).show(50)\n"
   ]
  },
  {
   "cell_type": "markdown",
   "id": "based-heart",
   "metadata": {},
   "source": [
    "# Observations: California (12.52 %), New York(12.74 %) , Florida (12.73 %) and Texas(12.55%) have maximum loans issued as they are close to overall average interest rate of all US states(12.62%) ."
   ]
  },
  {
   "cell_type": "code",
   "execution_count": 62,
   "id": "legitimate-mobile",
   "metadata": {},
   "outputs": [
    {
     "name": "stdout",
     "output_type": "stream",
     "text": [
      "+----------+--------+-----+\n",
      "|addr_state|bad_loan|count|\n",
      "+----------+--------+-----+\n",
      "|        CA|     Yes|18091|\n",
      "|        NY|     Yes|11258|\n",
      "|        TX|     Yes| 9594|\n",
      "|        FL|     Yes| 9084|\n",
      "|        NJ|     Yes| 4740|\n",
      "|        IL|     Yes| 4238|\n",
      "|        PA|     Yes| 4172|\n",
      "|        OH|     Yes| 3969|\n",
      "|        VA|     Yes| 3664|\n",
      "|        GA|     Yes| 3652|\n",
      "|        NC|     Yes| 3529|\n",
      "|        MD|     Yes| 3116|\n",
      "|        MI|     Yes| 2983|\n",
      "|        AZ|     Yes| 2804|\n",
      "|        MA|     Yes| 2788|\n",
      "|        WA|     Yes| 2231|\n",
      "|        MN|     Yes| 2171|\n",
      "|        CO|     Yes| 2161|\n",
      "|        NV|     Yes| 1988|\n",
      "|        IN|     Yes| 1879|\n",
      "+----------+--------+-----+\n",
      "only showing top 20 rows\n",
      "\n"
     ]
    }
   ],
   "source": [
    "# reference: https://medium.com/analytics-vidhya/spark-group-by-and-filter-deep-dive-5326088dec80\n",
    "# Checking bad loans across state\n",
    "import pyspark.sql.functions as f\n",
    "df_sel.groupBy(\"addr_state\",\"bad_loan\").count().filter(f.col(\"bad_loan\")==\"Yes\").sort(desc(\"count\")).show()"
   ]
  },
  {
   "cell_type": "markdown",
   "id": "closing-virtue",
   "metadata": {},
   "source": [
    "# Observations: California, Florida, New York and Texas have most number of bad loan requested. As they have most number of loan requested overall.</b></br>\n"
   ]
  },
  {
   "cell_type": "code",
   "execution_count": 63,
   "id": "biological-acting",
   "metadata": {},
   "outputs": [
    {
     "name": "stdout",
     "output_type": "stream",
     "text": [
      "+----------------+\n",
      "| avg(annual_inc)|\n",
      "+----------------+\n",
      "|77829.5121889684|\n",
      "+----------------+\n",
      "\n"
     ]
    }
   ],
   "source": [
    "# Annual Income\n",
    "df_sel.agg(avg(col(\"annual_inc\"))).show()"
   ]
  },
  {
   "cell_type": "markdown",
   "id": "technological-blocking",
   "metadata": {},
   "source": [
    "# Observations: Average Annual Income across all USA is 67K"
   ]
  },
  {
   "cell_type": "code",
   "execution_count": 64,
   "id": "floating-likelihood",
   "metadata": {},
   "outputs": [
    {
     "name": "stdout",
     "output_type": "stream",
     "text": [
      "+----------+-----------------+\n",
      "|addr_state|  avg(annual_inc)|\n",
      "+----------+-----------------+\n",
      "|        DC|92922.29001019368|\n",
      "|        NJ|87704.12594652257|\n",
      "|        CT|86289.07528215305|\n",
      "|        MD|85724.85860622242|\n",
      "|        VA|84657.09705098676|\n",
      "|        CA|82987.83547877775|\n",
      "|        TX| 82681.8982481213|\n",
      "|        MA|82388.56125744835|\n",
      "|        NY|80724.40423370425|\n",
      "|        NH|79739.00157625115|\n",
      "|        AK| 79580.0320754717|\n",
      "|        IL|79542.37658069817|\n",
      "|        GA|78070.45381325445|\n",
      "|        WA|77245.90957513082|\n",
      "|        DE|77110.28116279069|\n",
      "|        LA|76551.96652952296|\n",
      "|        CO|76367.00055437494|\n",
      "|        ND|75021.57433056325|\n",
      "|        AZ|74684.57788475152|\n",
      "|        UT|74553.09128391984|\n",
      "|        NC|74199.60741615493|\n",
      "|        WY|74021.46279276608|\n",
      "|        SC|73804.74773050421|\n",
      "|        RI|73800.24663939216|\n",
      "|        PA|73684.17387059222|\n",
      "|        NV|  73457.105833175|\n",
      "|        FL| 73374.5365214264|\n",
      "|        HI|72918.04666490904|\n",
      "|        NM|72855.59722394349|\n",
      "|        OK|72762.04727403156|\n",
      "|        MS| 72740.6847334004|\n",
      "|        MN|72441.83236538323|\n",
      "|        MI|72389.35252113838|\n",
      "|        KS|71943.94713855421|\n",
      "|        AL|71523.87982855612|\n",
      "+----------+-----------------+\n",
      "only showing top 35 rows\n",
      "\n"
     ]
    }
   ],
   "source": [
    "# Average interest rate across each US state\n",
    "df_sel.groupBy(\"addr_state\").avg(\"annual_inc\").sort(desc(\"avg(annual_inc)\")).show(35)"
   ]
  },
  {
   "cell_type": "markdown",
   "id": "capital-trick",
   "metadata": {},
   "source": [
    "# Observations: California, New York and Texas are all above the average annual income (with the exclusion of Florida), this might give possible indication why most loans are issued in these states"
   ]
  },
  {
   "cell_type": "code",
   "execution_count": 65,
   "id": "orange-dream",
   "metadata": {},
   "outputs": [],
   "source": [
    "df_sel=df_sel.withColumn(\"annual_inc\",df_sel[\"annual_inc\"].cast(\"double\"))"
   ]
  },
  {
   "cell_type": "code",
   "execution_count": 66,
   "id": "herbal-transsexual",
   "metadata": {},
   "outputs": [],
   "source": [
    "# Dropping rows with null values \n",
    "df_sel=df_sel.na.drop(subset=[\"annual_inc\"])"
   ]
  },
  {
   "cell_type": "code",
   "execution_count": 67,
   "id": "cordless-composite",
   "metadata": {},
   "outputs": [],
   "source": [
    "# Creating groups of Income Category based on Annual Income\n",
    "df_sel = df_sel.withColumn(\"Income Category\", when((col(\"annual_inc\") >= 0) & (col(\"annual_inc\") <= 100000),\"Low Income\").when((col(\"annual_inc\") > 100000) & (col(\"annual_inc\") < 200000),\"Medium Income\").when((col(\"annual_inc\") >= 200000),\"High Income\").otherwise(df_sel.annual_inc))"
   ]
  },
  {
   "cell_type": "code",
   "execution_count": 68,
   "id": "inclusive-chassis",
   "metadata": {},
   "outputs": [
    {
     "name": "stdout",
     "output_type": "stream",
     "text": [
      "+---------------+-------+\n",
      "|Income Category|  count|\n",
      "+---------------+-------+\n",
      "|    High Income|  37025|\n",
      "|     Low Income|1223887|\n",
      "|  Medium Income| 269037|\n",
      "+---------------+-------+\n",
      "\n"
     ]
    }
   ],
   "source": [
    "df_sel.groupBy(\"Income Category\").count().show()"
   ]
  },
  {
   "cell_type": "markdown",
   "id": "governmental-cattle",
   "metadata": {},
   "source": [
    "# Observations: Most of customers who has taken loan falls into Low Income Category"
   ]
  },
  {
   "cell_type": "code",
   "execution_count": 69,
   "id": "potential-medicine",
   "metadata": {},
   "outputs": [
    {
     "data": {
      "text/plain": [
       "pyspark.sql.dataframe.DataFrame"
      ]
     },
     "execution_count": 69,
     "metadata": {},
     "output_type": "execute_result"
    }
   ],
   "source": [
    "type(df_sel)"
   ]
  },
  {
   "cell_type": "code",
   "execution_count": 70,
   "id": "extensive-mystery",
   "metadata": {},
   "outputs": [],
   "source": [
    "x=df_sel.select('Income category','bad_loan','loan_amnt')"
   ]
  },
  {
   "cell_type": "code",
   "execution_count": 71,
   "id": "drawn-scanner",
   "metadata": {},
   "outputs": [],
   "source": [
    "# Converting spark dataframe to pandas dataframe for plotting\n",
    "pd_df=x.toPandas()"
   ]
  },
  {
   "cell_type": "code",
   "execution_count": 72,
   "id": "instant-swing",
   "metadata": {},
   "outputs": [
    {
     "data": {
      "image/png": "[encoded data removed]",
      "text/plain": [
       "<Figure size 432x288 with 1 Axes>"
      ]
     },
     "metadata": {
      "needs_background": "light"
     },
     "output_type": "display_data"
    }
   ],
   "source": [
    "sns.violinplot(data = pd_df, x = 'Income category',y = 'loan_amnt')\n",
    "plt.xlabel('Income Category')\n",
    "plt.ylabel('Loan Amount')\n",
    "plt.title(\"Income Category vs Total Loan Amount\")\n",
    "display()"
   ]
  },
  {
   "cell_type": "markdown",
   "id": "aggregate-reset",
   "metadata": {},
   "source": [
    "# Observations: Customers that made part of the high income category took higher loan amounts than people from low and medium income categories. Of course, people with higher annual incomes are more likely to pay loans with a higher amount"
   ]
  },
  {
   "cell_type": "code",
   "execution_count": 73,
   "id": "random-boston",
   "metadata": {},
   "outputs": [],
   "source": [
    "z=df_sel.groupBy(\"Income Category\",\"bad_loan\").count()"
   ]
  },
  {
   "cell_type": "code",
   "execution_count": 74,
   "id": "quick-copyright",
   "metadata": {},
   "outputs": [],
   "source": [
    "# Converting spark dataframe to pandas dataframe for plotting\n",
    "pd_df=z.toPandas()"
   ]
  },
  {
   "cell_type": "code",
   "execution_count": 75,
   "id": "guided-venue",
   "metadata": {},
   "outputs": [
    {
     "data": {
      "image/png": "[encoded data removed]",
      "text/plain": [
       "<Figure size 432x288 with 1 Axes>"
      ]
     },
     "metadata": {
      "needs_background": "light"
     },
     "output_type": "display_data"
    }
   ],
   "source": [
    "sns.barplot(data =pd_df , x = 'Income Category',y = 'count',hue='bad_loan')\n",
    "plt.xlabel('Income Category')\n",
    "plt.ylabel('Count')\n",
    "plt.title(\"Income Category vs Count of Loan Amount Issued wrt Bad or Good Loan\")\n",
    "display()"
   ]
  },
  {
   "cell_type": "markdown",
   "id": "assured-china",
   "metadata": {},
   "source": [
    "# Observations: Loans that were borrowed by the Low income category had a slightly higher change of becoming a bad loan"
   ]
  },
  {
   "cell_type": "code",
   "execution_count": 76,
   "id": "brief-craft",
   "metadata": {},
   "outputs": [],
   "source": [
    "x=df_sel.select('Income category','bad_loan','int_rate_cleaned')"
   ]
  },
  {
   "cell_type": "code",
   "execution_count": 77,
   "id": "returning-sheriff",
   "metadata": {},
   "outputs": [],
   "source": [
    "# Converting spark dataframe to pandas dataframe for plotting\n",
    "pd_df=x.toPandas()"
   ]
  },
  {
   "cell_type": "code",
   "execution_count": 78,
   "id": "overall-technician",
   "metadata": {},
   "outputs": [
    {
     "data": {
      "image/png": "[encoded data removed]",
      "text/plain": [
       "<Figure size 432x288 with 1 Axes>"
      ]
     },
     "metadata": {
      "needs_background": "light"
     },
     "output_type": "display_data"
    }
   ],
   "source": [
    "sns.boxplot(data = pd_df, x = 'Income category',y = 'int_rate_cleaned')\n",
    "plt.xlabel('Income Category')\n",
    "plt.ylabel('Interest Rate')\n",
    "plt.title(\"Interest Rate vs Income Category\")\n",
    "display()"
   ]
  },
  {
   "cell_type": "markdown",
   "id": "resident-animation",
   "metadata": {},
   "source": [
    "# Observations: Customers with a lower income had on average higher interest rates while people with a higher annual income had lower interest rates on their loans. "
   ]
  },
  {
   "cell_type": "code",
   "execution_count": 79,
   "id": "golden-shopping",
   "metadata": {},
   "outputs": [],
   "source": [
    "# Loan Amount Vs Grade\n",
    "d=df_sel.groupBy(\"grade\").sum(\"loan_amnt\")"
   ]
  },
  {
   "cell_type": "code",
   "execution_count": 80,
   "id": "innovative-piece",
   "metadata": {},
   "outputs": [],
   "source": [
    "# Converting spark dataframe to pandas dataframe for plotting\n",
    "pd_df=d.toPandas()\n"
   ]
  },
  {
   "cell_type": "code",
   "execution_count": 81,
   "id": "promotional-intranet",
   "metadata": {},
   "outputs": [
    {
     "data": {
      "image/png": "[encoded data removed]",
      "text/plain": [
       "<Figure size 432x288 with 1 Axes>"
      ]
     },
     "metadata": {
      "needs_background": "light"
     },
     "output_type": "display_data"
    }
   ],
   "source": [
    "import matplotlib.pyplot as plt\n",
    "import seaborn as sns\n",
    "sns.barplot(data = pd_df, x = 'grade',y = 'sum(loan_amnt)')\n",
    "plt.xlabel('Grades')\n",
    "plt.ylabel('Sum of Loan Amount')\n",
    "plt.title(\"Grade vs Total Loan Amount\")\n",
    "display()"
   ]
  },
  {
   "cell_type": "markdown",
   "id": "varying-brazilian",
   "metadata": {},
   "source": [
    "# Observations: Grade C has highest total loan amount"
   ]
  },
  {
   "cell_type": "code",
   "execution_count": 82,
   "id": "tracked-howard",
   "metadata": {},
   "outputs": [],
   "source": [
    "x=df_sel.groupBy(\"grade\",\"bad_loan\").count()"
   ]
  },
  {
   "cell_type": "code",
   "execution_count": 83,
   "id": "mathematical-fight",
   "metadata": {},
   "outputs": [],
   "source": [
    "# Converting spark dataframe to pandas dataframe for plotting\n",
    "pd_df2=x.toPandas()"
   ]
  },
  {
   "cell_type": "code",
   "execution_count": 84,
   "id": "bright-dress",
   "metadata": {},
   "outputs": [
    {
     "data": {
      "image/png": "[encoded data removed]",
      "text/plain": [
       "<Figure size 432x288 with 1 Axes>"
      ]
     },
     "metadata": {
      "needs_background": "light"
     },
     "output_type": "display_data"
    }
   ],
   "source": [
    "sns.barplot(data = pd_df2, x = 'grade',y='count',hue='bad_loan')\n",
    "plt.xlabel('Home Ownership')\n",
    "plt.ylabel('Count')\n",
    "plt.title(\"Home Ownership Count\")\n",
    "display()"
   ]
  },
  {
   "cell_type": "markdown",
   "id": "regulation-jefferson",
   "metadata": {},
   "source": [
    "# Observations: Majority of Bad Loans exist from A,B,C and D. \n",
    "# Although B and C grade have similar number of Good loans Issued but C grade has more Bad Loans than Grade B"
   ]
  },
  {
   "cell_type": "code",
   "execution_count": 85,
   "id": "ranging-radio",
   "metadata": {},
   "outputs": [],
   "source": [
    "# Home Ownership\n",
    "d1=df_sel.groupBy(\"home_ownership\").count()"
   ]
  },
  {
   "cell_type": "code",
   "execution_count": 86,
   "id": "linear-simpson",
   "metadata": {},
   "outputs": [],
   "source": [
    "# Converting spark dataframe to pandas dataframe for plotting\n",
    "pd_df=d1.toPandas()"
   ]
  },
  {
   "cell_type": "code",
   "execution_count": 87,
   "id": "convenient-stanford",
   "metadata": {},
   "outputs": [
    {
     "data": {
      "image/png": "[encoded data removed]",
      "text/plain": [
       "<Figure size 432x288 with 1 Axes>"
      ]
     },
     "metadata": {
      "needs_background": "light"
     },
     "output_type": "display_data"
    }
   ],
   "source": [
    "sns.barplot(data = pd_df, x = 'home_ownership',y='count')\n",
    "plt.xlabel('Home Ownership')\n",
    "plt.ylabel('Count')\n",
    "plt.title(\"Home Ownership Count\")\n",
    "display()"
   ]
  },
  {
   "cell_type": "markdown",
   "id": "pacific-working",
   "metadata": {},
   "source": [
    "# Observations: Most of the loan takers have Home Ownership of Rent or Mortgage. Very Few own a House which request for loan"
   ]
  },
  {
   "cell_type": "code",
   "execution_count": 88,
   "id": "unavailable-bahamas",
   "metadata": {},
   "outputs": [],
   "source": [
    "x=df_sel.select('Income category','bad_loan','loan_amnt')\n",
    "# Converting spark dataframe to pandas dataframe for plotting\n",
    "pd_df=x.toPandas()"
   ]
  },
  {
   "cell_type": "code",
   "execution_count": 89,
   "id": "wicked-jewel",
   "metadata": {},
   "outputs": [
    {
     "name": "stderr",
     "output_type": "stream",
     "text": [
      "C:\\Users\\shwer\\AppData\\Local\\Continuum\\anaconda3\\envs\\python39\\lib\\site-packages\\seaborn\\distributions.py:2557: FutureWarning: `distplot` is a deprecated function and will be removed in a future version. Please adapt your code to use either `displot` (a figure-level function with similar flexibility) or `histplot` (an axes-level function for histograms).\n",
      "  warnings.warn(msg, FutureWarning)\n"
     ]
    },
    {
     "data": {
      "text/plain": [
       "<AxesSubplot:xlabel='loan_amnt'>"
      ]
     },
     "execution_count": 89,
     "metadata": {},
     "output_type": "execute_result"
    },
    {
     "data": {
      "image/png": "[encoded data removed]",
      "text/plain": [
       "<Figure size 432x288 with 1 Axes>"
      ]
     },
     "metadata": {
      "needs_background": "light"
     },
     "output_type": "display_data"
    }
   ],
   "source": [
    "# Reference: https://towardsdatascience.com/histograms-and-density-plots-in-python-f6bda88f5ac0\n",
    "# Loan Amount Distribution\n",
    "sns.distplot(pd_df['loan_amnt'], hist=True, kde=False, color = 'blue',\n",
    "             hist_kws={'edgecolor':'black'})"
   ]
  },
  {
   "cell_type": "markdown",
   "id": "miniature-stanford",
   "metadata": {},
   "source": [
    "# Observations: Loan Amount having long right tailed i.e. Skewness is high"
   ]
  },
  {
   "cell_type": "code",
   "execution_count": 90,
   "id": "statistical-draft",
   "metadata": {},
   "outputs": [
    {
     "data": {
      "image/png": "[encoded data removed]",
      "text/plain": [
       "<Figure size 432x288 with 1 Axes>"
      ]
     },
     "metadata": {
      "needs_background": "light"
     },
     "output_type": "display_data"
    }
   ],
   "source": [
    "# Boxplot \n",
    "sns.boxplot(x=pd_df['loan_amnt'])\n",
    "plt.xlabel(\"Loan Amount\")\n",
    "plt.title(\"Loan Amount Distribution\")\n",
    "plt.show()"
   ]
  },
  {
   "cell_type": "markdown",
   "id": "junior-apparatus",
   "metadata": {},
   "source": [
    "# Observations: 25 % percentile of loan amount issued is 7500 , 50% percentile is 12500 and 75 % percentile is 20K.\n",
    "# There are few outliers i.e. Q3 +1.5(Q3-Q1) which gives maximum point in the dataset. But there are few data points which are lying above that."
   ]
  },
  {
   "cell_type": "code",
   "execution_count": 91,
   "id": "female-peter",
   "metadata": {},
   "outputs": [
    {
     "data": {
      "text/plain": [
       "<AxesSubplot:title={'center':'loan_amnt'}, xlabel='[bad_loan]'>"
      ]
     },
     "execution_count": 91,
     "metadata": {},
     "output_type": "execute_result"
    },
    {
     "data": {
      "image/png": "[encoded data removed]",
      "text/plain": [
       "<Figure size 432x288 with 1 Axes>"
      ]
     },
     "metadata": {
      "needs_background": "light"
     },
     "output_type": "display_data"
    }
   ],
   "source": [
    "# refer: https://pandas.pydata.org/docs/reference/api/pandas.DataFrame.boxplot.html\n",
    "pd_df.boxplot(column=['loan_amnt'], by=['bad_loan'])"
   ]
  },
  {
   "cell_type": "markdown",
   "id": "technical-recorder",
   "metadata": {},
   "source": [
    "# Observations: For Bad Loan the median is 14K while 25 percentile is 9K and 75 percentile is 20K. \n"
   ]
  },
  {
   "cell_type": "code",
   "execution_count": 92,
   "id": "attempted-illustration",
   "metadata": {},
   "outputs": [],
   "source": [
    "# bad Loan vs term loan taken\n",
    "x=df_sel.groupBy(\"term\",\"bad_loan\").count()"
   ]
  },
  {
   "cell_type": "code",
   "execution_count": 93,
   "id": "lesser-difficulty",
   "metadata": {},
   "outputs": [],
   "source": [
    "# Converting spark dataframe to pandas dataframe for plotting\n",
    "pd_df2=x.toPandas()"
   ]
  },
  {
   "cell_type": "code",
   "execution_count": 94,
   "id": "polished-liabilities",
   "metadata": {},
   "outputs": [
    {
     "data": {
      "image/png": "[encoded data removed]",
      "text/plain": [
       "<Figure size 432x288 with 1 Axes>"
      ]
     },
     "metadata": {
      "needs_background": "light"
     },
     "output_type": "display_data"
    }
   ],
   "source": [
    "sns.barplot(data = pd_df2, x = 'term',y='count',hue='bad_loan')\n",
    "plt.xlabel('Term in Months')\n",
    "plt.ylabel('Count')\n",
    "plt.title(\"Term of Loan in Mounths\")\n",
    "display()"
   ]
  },
  {
   "cell_type": "code",
   "execution_count": 95,
   "id": "great-headquarters",
   "metadata": {},
   "outputs": [
    {
     "name": "stdout",
     "output_type": "stream",
     "text": [
      "+----+--------+-------+\n",
      "|term|bad_loan|  count|\n",
      "+----+--------+-------+\n",
      "|  60|     Yes|  42052|\n",
      "|  36|      No|1012242|\n",
      "|  60|      No| 398345|\n",
      "|  36|     Yes|  77310|\n",
      "+----+--------+-------+\n",
      "\n"
     ]
    }
   ],
   "source": [
    "x.show()"
   ]
  },
  {
   "cell_type": "markdown",
   "id": "defensive-thanksgiving",
   "metadata": {},
   "source": [
    "# Observations: Loan taken majority of the times are 36 months.\n",
    "# 7% of the total loans for term 36 months are bad\n",
    "# 9.5% of the total loans for term 60 months are bad.\n",
    "# So, term of 60 months have high probability of being bad loan"
   ]
  },
  {
   "cell_type": "code",
   "execution_count": 96,
   "id": "fitted-appeal",
   "metadata": {},
   "outputs": [],
   "source": [
    "# bad Loan vs Employee length\n",
    "x=df_sel.groupBy(\"emp_length\",\"bad_loan\").count()"
   ]
  },
  {
   "cell_type": "code",
   "execution_count": 97,
   "id": "adjustable-sydney",
   "metadata": {},
   "outputs": [],
   "source": [
    "# Converting spark dataframe to pandas dataframe for plotting\n",
    "pd_df2=x.toPandas()"
   ]
  },
  {
   "cell_type": "code",
   "execution_count": 98,
   "id": "impressive-solomon",
   "metadata": {},
   "outputs": [
    {
     "data": {
      "image/png": "[encoded data removed]",
      "text/plain": [
       "<Figure size 1080x504 with 1 Axes>"
      ]
     },
     "metadata": {
      "needs_background": "light"
     },
     "output_type": "display_data"
    }
   ],
   "source": [
    "plt.figure(figsize=(15, 7))\n",
    "plt.xticks(rotation = 60)\n",
    "sns.barplot(data = pd_df2, x = 'emp_length',y='count',hue='bad_loan')\n",
    "plt.xlabel('Employee length')\n",
    "plt.ylabel('Count')\n",
    "plt.title(\"Employee length Count\")\n",
    "display()"
   ]
  },
  {
   "cell_type": "markdown",
   "id": "hazardous-arrest",
   "metadata": {},
   "source": [
    "# Observations: Majority of Employee are 10+ years who have taken loan."
   ]
  },
  {
   "cell_type": "code",
   "execution_count": 99,
   "id": "virtual-substitute",
   "metadata": {},
   "outputs": [],
   "source": [
    "x=df_sel.select('home_ownership','bad_loan','loan_amnt')\n",
    "x=x.toPandas()"
   ]
  },
  {
   "cell_type": "code",
   "execution_count": 100,
   "id": "bizarre-bidding",
   "metadata": {},
   "outputs": [
    {
     "data": {
      "text/plain": [
       "Text(0.5, 1.0, 'Home Ownership vs Loan Amount')"
      ]
     },
     "execution_count": 100,
     "metadata": {},
     "output_type": "execute_result"
    },
    {
     "data": {
      "image/png": "[encoded data removed]",
      "text/plain": [
       "<Figure size 1080x504 with 1 Axes>"
      ]
     },
     "metadata": {
      "needs_background": "light"
     },
     "output_type": "display_data"
    }
   ],
   "source": [
    "# Home Ownership of Loan Amount\n",
    "plt.figure(figsize=(15, 7))\n",
    "plt.xticks(rotation = 60)\n",
    "sns.violinplot(x=\"home_ownership\", y=\"loan_amnt\", hue=\"bad_loan\",\n",
    "                    data=x, palette=\"muted\")\n",
    "plt.title(\"Home Ownership vs Loan Amount\")"
   ]
  },
  {
   "cell_type": "markdown",
   "id": "norwegian-district",
   "metadata": {},
   "source": [
    "# Observations: For Rented Home Ownership good Loan median is 11K while for Bad Loan median it is 12K.\n",
    "# For Owned House good loan median is 12K while bad one is 14K.\n",
    "# For Mortgage good loan median is 17K while Bad loan median is 18K.\n",
    "# So Bad loan median is high than Good loan Amount \n",
    "# People who have Mortgage tend to take loans with higher amount."
   ]
  },
  {
   "cell_type": "code",
   "execution_count": 101,
   "id": "assumed-document",
   "metadata": {},
   "outputs": [],
   "source": [
    "x=df_sel.select('purpose','loan_status','bad_loan')\n",
    "x=x.toPandas()"
   ]
  },
  {
   "cell_type": "code",
   "execution_count": 102,
   "id": "macro-canadian",
   "metadata": {},
   "outputs": [],
   "source": [
    "x=x[(x['purpose']==\"credit_card\")|(x['purpose']==\"debt_consolidation\") | (x['purpose']==\"home_improvement\")]"
   ]
  },
  {
   "cell_type": "code",
   "execution_count": 103,
   "id": "hollow-lawsuit",
   "metadata": {},
   "outputs": [
    {
     "data": {
      "text/html": [
       "<div>\n",
       "<style scoped>\n",
       "    .dataframe tbody tr th:only-of-type {\n",
       "        vertical-align: middle;\n",
       "    }\n",
       "\n",
       "    .dataframe tbody tr th {\n",
       "        vertical-align: top;\n",
       "    }\n",
       "\n",
       "    .dataframe thead th {\n",
       "        text-align: right;\n",
       "    }\n",
       "</style>\n",
       "<table border=\"1\" class=\"dataframe\">\n",
       "  <thead>\n",
       "    <tr style=\"text-align: right;\">\n",
       "      <th></th>\n",
       "      <th></th>\n",
       "      <th>loan_status</th>\n",
       "    </tr>\n",
       "    <tr>\n",
       "      <th>purpose</th>\n",
       "      <th>bad_loan</th>\n",
       "      <th></th>\n",
       "    </tr>\n",
       "  </thead>\n",
       "  <tbody>\n",
       "    <tr>\n",
       "      <th rowspan=\"2\" valign=\"top\">credit_card</th>\n",
       "      <th>No</th>\n",
       "      <td>317276</td>\n",
       "    </tr>\n",
       "    <tr>\n",
       "      <th>Yes</th>\n",
       "      <td>20525</td>\n",
       "    </tr>\n",
       "    <tr>\n",
       "      <th rowspan=\"2\" valign=\"top\">debt_consolidation</th>\n",
       "      <th>No</th>\n",
       "      <td>818493</td>\n",
       "    </tr>\n",
       "    <tr>\n",
       "      <th>Yes</th>\n",
       "      <td>73556</td>\n",
       "    </tr>\n",
       "    <tr>\n",
       "      <th rowspan=\"2\" valign=\"top\">home_improvement</th>\n",
       "      <th>No</th>\n",
       "      <td>92225</td>\n",
       "    </tr>\n",
       "    <tr>\n",
       "      <th>Yes</th>\n",
       "      <td>6856</td>\n",
       "    </tr>\n",
       "  </tbody>\n",
       "</table>\n",
       "</div>"
      ],
      "text/plain": [
       "                             loan_status\n",
       "purpose            bad_loan             \n",
       "credit_card        No             317276\n",
       "                   Yes             20525\n",
       "debt_consolidation No             818493\n",
       "                   Yes             73556\n",
       "home_improvement   No              92225\n",
       "                   Yes              6856"
      ]
     },
     "execution_count": 103,
     "metadata": {},
     "output_type": "execute_result"
    }
   ],
   "source": [
    "# bad Loan vs Employee length\n",
    "x.groupby(by=[\"purpose\",\"bad_loan\"]).count()"
   ]
  },
  {
   "cell_type": "code",
   "execution_count": 104,
   "id": "seventh-calculator",
   "metadata": {},
   "outputs": [
    {
     "data": {
      "text/plain": [
       "Text(0.5, 1.0, 'Loan Purpose Count')"
      ]
     },
     "execution_count": 104,
     "metadata": {},
     "output_type": "execute_result"
    },
    {
     "data": {
      "image/png": "[encoded data removed]",
      "text/plain": [
       "<Figure size 1080x504 with 1 Axes>"
      ]
     },
     "metadata": {
      "needs_background": "light"
     },
     "output_type": "display_data"
    }
   ],
   "source": [
    "# Loan Purpose Count\n",
    "plt.figure(figsize=(15, 7))\n",
    "plt.xticks(rotation = 60)\n",
    "sns.countplot(x=\"purpose\", hue=\"bad_loan\",\n",
    "                    data=x, palette=\"muted\")\n",
    "plt.title(\"Loan Purpose Count\")"
   ]
  },
  {
   "cell_type": "markdown",
   "id": "senior-minister",
   "metadata": {},
   "source": [
    "# Observations:  6 % of loans taken for credit card are bad.\n",
    "# 8.2% of loans taken for debt_consolidation are bad\n",
    "# 7% of loans taken for home improvement are bad.\n",
    "# Majority of the loans are taken for debt consolidation"
   ]
  },
  {
   "cell_type": "code",
   "execution_count": 105,
   "id": "universal-likelihood",
   "metadata": {},
   "outputs": [],
   "source": [
    "df_sel=df_sel.withColumn(\"dti\",df_sel[\"dti\"].cast(\"double\"))\n"
   ]
  },
  {
   "cell_type": "code",
   "execution_count": 106,
   "id": "colonial-basin",
   "metadata": {},
   "outputs": [],
   "source": [
    "z=df_sel.select(\"dti\",\"bad_loan\",\"addr_state\",\"emplen_cleaned\")"
   ]
  },
  {
   "cell_type": "code",
   "execution_count": 107,
   "id": "competitive-monaco",
   "metadata": {},
   "outputs": [],
   "source": [
    "a=z.toPandas()"
   ]
  },
  {
   "cell_type": "code",
   "execution_count": 108,
   "id": "horizontal-hollywood",
   "metadata": {},
   "outputs": [],
   "source": [
    "# bad Loan vs Employee length\n",
    "x=z.groupBy(\"addr_state\").avg(\"dti\")"
   ]
  },
  {
   "cell_type": "code",
   "execution_count": 109,
   "id": "perceived-tonight",
   "metadata": {},
   "outputs": [
    {
     "name": "stdout",
     "output_type": "stream",
     "text": [
      "+----------+------------------+\n",
      "|addr_state|          avg(dti)|\n",
      "+----------+------------------+\n",
      "|        AZ| 18.45996545377319|\n",
      "|        SC|19.547585584600238|\n",
      "|        LA|19.446834204381183|\n",
      "|        MN|  18.8372849818951|\n",
      "|        NJ|17.139768637532136|\n",
      "|        DC|15.541371049949031|\n",
      "|        OR|17.961841100505335|\n",
      "|        VA|18.579144650679666|\n",
      "|        RI| 17.65876534190532|\n",
      "|        KY|19.622849466022725|\n",
      "|        WY|20.401592054550846|\n",
      "|        NH|19.056775252856955|\n",
      "|        MI| 18.80880825943493|\n",
      "|        NV| 18.57531635949078|\n",
      "|        WI|19.360464358049686|\n",
      "|        ID| 21.07852971311475|\n",
      "|        CA|16.970077552138722|\n",
      "|        CT|17.387868866013473|\n",
      "|        NE|20.325924785572898|\n",
      "|        MT|19.779421101774044|\n",
      "+----------+------------------+\n",
      "only showing top 20 rows\n",
      "\n"
     ]
    }
   ],
   "source": [
    "x.show()"
   ]
  },
  {
   "cell_type": "code",
   "execution_count": 110,
   "id": "civil-providence",
   "metadata": {},
   "outputs": [],
   "source": [
    "z=z.withColumn(\"emplen_cleaned\",z[\"emplen_cleaned\"].cast(\"double\"))"
   ]
  },
  {
   "cell_type": "code",
   "execution_count": 111,
   "id": "powerful-firewall",
   "metadata": {},
   "outputs": [],
   "source": [
    "w=z.groupBy(\"addr_state\").avg(\"emplen_cleaned\")"
   ]
  },
  {
   "cell_type": "code",
   "execution_count": 112,
   "id": "acoustic-warner",
   "metadata": {},
   "outputs": [],
   "source": [
    "g=z.groupBy(\"addr_state\",\"bad_loan\").count()"
   ]
  },
  {
   "cell_type": "code",
   "execution_count": 113,
   "id": "fewer-notification",
   "metadata": {},
   "outputs": [
    {
     "name": "stdout",
     "output_type": "stream",
     "text": [
      "+----------+--------+-----+\n",
      "|addr_state|bad_loan|count|\n",
      "+----------+--------+-----+\n",
      "|        SC|     Yes| 1167|\n",
      "|        SD|      No| 2904|\n",
      "|        RI|     Yes|  493|\n",
      "|        ND|     Yes|  129|\n",
      "|        MA|      No|33165|\n",
      "|        NE|      No| 4223|\n",
      "|        IL|      No|57898|\n",
      "|        KS|      No|12448|\n",
      "|        NC|     Yes| 3496|\n",
      "|        ME|      No| 2569|\n",
      "|        ID|     Yes|  144|\n",
      "|        VT|      No| 3111|\n",
      "|        WI|     Yes| 1237|\n",
      "|        PA|     Yes| 4118|\n",
      "|        MD|      No|33628|\n",
      "|        IA|     Yes|    1|\n",
      "|        RI|      No| 6351|\n",
      "|        MS|     Yes|  555|\n",
      "|        GA|      No|46430|\n",
      "|        WA|      No|29896|\n",
      "+----------+--------+-----+\n",
      "only showing top 20 rows\n",
      "\n"
     ]
    }
   ],
   "source": [
    "g.show()"
   ]
  },
  {
   "cell_type": "code",
   "execution_count": 114,
   "id": "ranging-chapter",
   "metadata": {},
   "outputs": [],
   "source": [
    "g=g.withColumnRenamed(\"count\",\"Loan_Given_Condition\")"
   ]
  },
  {
   "cell_type": "code",
   "execution_count": 115,
   "id": "hybrid-entity",
   "metadata": {},
   "outputs": [],
   "source": [
    "h=z.groupBy(\"addr_state\").count()"
   ]
  },
  {
   "cell_type": "code",
   "execution_count": 116,
   "id": "expanded-penetration",
   "metadata": {},
   "outputs": [
    {
     "name": "stdout",
     "output_type": "stream",
     "text": [
      "+----------+------+\n",
      "|addr_state| count|\n",
      "+----------+------+\n",
      "|        AZ| 35315|\n",
      "|        SC| 18286|\n",
      "|        LA| 17986|\n",
      "|        MN| 27894|\n",
      "|        NJ| 57183|\n",
      "|        DC|  3924|\n",
      "|        OR| 17811|\n",
      "|        VA| 44286|\n",
      "|        RI|  6844|\n",
      "|        KY| 14702|\n",
      "|        WY|  3373|\n",
      "|        NH|  7613|\n",
      "|        MI| 38792|\n",
      "|        NV| 21052|\n",
      "|        WI| 20243|\n",
      "|        ID|  1952|\n",
      "|        CA|215340|\n",
      "|        CT| 24189|\n",
      "|        NE|  4547|\n",
      "|        MT|  4284|\n",
      "+----------+------+\n",
      "only showing top 20 rows\n",
      "\n"
     ]
    }
   ],
   "source": [
    "h.show()"
   ]
  },
  {
   "cell_type": "code",
   "execution_count": 117,
   "id": "productive-rouge",
   "metadata": {},
   "outputs": [],
   "source": [
    "h=h.withColumnRenamed(\"count\",\"Loan_Issued\")"
   ]
  },
  {
   "cell_type": "code",
   "execution_count": 118,
   "id": "pointed-pakistan",
   "metadata": {},
   "outputs": [],
   "source": [
    "d=g.join(h,g.addr_state ==  h.addr_state,\"inner\") "
   ]
  },
  {
   "cell_type": "code",
   "execution_count": 119,
   "id": "rational-fountain",
   "metadata": {},
   "outputs": [
    {
     "name": "stdout",
     "output_type": "stream",
     "text": [
      "+----------+--------+--------------------+----------+-----------+\n",
      "|addr_state|bad_loan|Loan_Given_Condition|addr_state|Loan_Issued|\n",
      "+----------+--------+--------------------+----------+-----------+\n",
      "|        AZ|      No|               32546|        AZ|      35315|\n",
      "|        AZ|     Yes|                2769|        AZ|      35315|\n",
      "|        SC|     Yes|                1167|        SC|      18286|\n",
      "|        SC|      No|               17119|        SC|      18286|\n",
      "|        LA|      No|               16430|        LA|      17986|\n",
      "|        LA|     Yes|                1556|        LA|      17986|\n",
      "|        MN|     Yes|                2151|        MN|      27894|\n",
      "|        MN|      No|               25743|        MN|      27894|\n",
      "|        NJ|      No|               52518|        NJ|      57183|\n",
      "|        NJ|     Yes|                4665|        NJ|      57183|\n",
      "|        DC|     Yes|                 200|        DC|       3924|\n",
      "|        DC|      No|                3724|        DC|       3924|\n",
      "|        OR|     Yes|                1160|        OR|      17811|\n",
      "|        OR|      No|               16651|        OR|      17811|\n",
      "|        VA|      No|               40646|        VA|      44286|\n",
      "|        VA|     Yes|                3640|        VA|      44286|\n",
      "|        RI|     Yes|                 493|        RI|       6844|\n",
      "|        RI|      No|                6351|        RI|       6844|\n",
      "|        KY|      No|               13579|        KY|      14702|\n",
      "|        KY|     Yes|                1123|        KY|      14702|\n",
      "+----------+--------+--------------------+----------+-----------+\n",
      "only showing top 20 rows\n",
      "\n"
     ]
    }
   ],
   "source": [
    "d.show()"
   ]
  },
  {
   "cell_type": "code",
   "execution_count": 120,
   "id": "tender-toolbox",
   "metadata": {},
   "outputs": [],
   "source": [
    "df1=d.join(w,\"addr_state\",\"inner\")"
   ]
  },
  {
   "cell_type": "code",
   "execution_count": 121,
   "id": "vocational-screening",
   "metadata": {},
   "outputs": [
    {
     "name": "stdout",
     "output_type": "stream",
     "text": [
      "+----------+--------+--------------------+----------+-----------+-------------------+\n",
      "|addr_state|bad_loan|Loan_Given_Condition|addr_state|Loan_Issued|avg(emplen_cleaned)|\n",
      "+----------+--------+--------------------+----------+-----------+-------------------+\n",
      "|        AZ|      No|               32546|        AZ|      35315|  5.801245929491717|\n",
      "|        AZ|     Yes|                2769|        AZ|      35315|  5.801245929491717|\n",
      "|        SC|     Yes|                1167|        SC|      18286|  6.171552006999891|\n",
      "|        SC|      No|               17119|        SC|      18286|  6.171552006999891|\n",
      "|        LA|      No|               16430|        LA|      17986|  6.092683198042923|\n",
      "|        LA|     Yes|                1556|        LA|      17986|  6.092683198042923|\n",
      "|        MN|     Yes|                2151|        MN|      27894|  5.975586147558615|\n",
      "|        MN|      No|               25743|        MN|      27894|  5.975586147558615|\n",
      "|        NJ|      No|               52518|        NJ|      57183|  6.133641117115227|\n",
      "|        NJ|     Yes|                4665|        NJ|      57183|  6.133641117115227|\n",
      "|        DC|     Yes|                 200|        DC|       3924|  4.871304791029561|\n",
      "|        DC|      No|                3724|        DC|       3924|  4.871304791029561|\n",
      "|        OR|     Yes|                1160|        OR|      17811| 5.8562685980573805|\n",
      "|        OR|      No|               16651|        OR|      17811| 5.8562685980573805|\n",
      "|        VA|      No|               40646|        VA|      44286|  6.089215553448042|\n",
      "|        VA|     Yes|                3640|        VA|      44286|  6.089215553448042|\n",
      "|        RI|     Yes|                 493|        RI|       6844|  6.416569257744009|\n",
      "|        RI|      No|                6351|        RI|       6844|  6.416569257744009|\n",
      "|        KY|      No|               13579|        KY|      14702|  6.410896476669841|\n",
      "|        KY|     Yes|                1123|        KY|      14702|  6.410896476669841|\n",
      "+----------+--------+--------------------+----------+-----------+-------------------+\n",
      "only showing top 20 rows\n",
      "\n"
     ]
    }
   ],
   "source": [
    "df1.show()"
   ]
  },
  {
   "cell_type": "code",
   "execution_count": 122,
   "id": "significant-briefing",
   "metadata": {},
   "outputs": [],
   "source": [
    "q=df1.withColumn(\"Percentage_Loan\",col(\"Loan_Given_Condition\")/col(\"Loan_Issued\"))"
   ]
  },
  {
   "cell_type": "code",
   "execution_count": 123,
   "id": "musical-motorcycle",
   "metadata": {},
   "outputs": [],
   "source": [
    "w=z.groupBy(\"addr_state\").avg(\"dti\")"
   ]
  },
  {
   "cell_type": "code",
   "execution_count": 124,
   "id": "engaging-static",
   "metadata": {},
   "outputs": [],
   "source": [
    "df1=q.join(w,\"addr_state\",\"inner\")"
   ]
  },
  {
   "cell_type": "code",
   "execution_count": 125,
   "id": "clinical-experiment",
   "metadata": {},
   "outputs": [
    {
     "name": "stdout",
     "output_type": "stream",
     "text": [
      "+----------+--------+--------------------+----------+-----------+-------------------+-------------------+------------------+\n",
      "|addr_state|bad_loan|Loan_Given_Condition|addr_state|Loan_Issued|avg(emplen_cleaned)|    Percentage_Loan|          avg(dti)|\n",
      "+----------+--------+--------------------+----------+-----------+-------------------+-------------------+------------------+\n",
      "|        AZ|      No|               32546|        AZ|      35315|  5.801245929491717| 0.9215913917598754| 18.45996545377319|\n",
      "|        AZ|     Yes|                2769|        AZ|      35315|  5.801245929491717|0.07840860824012459| 18.45996545377319|\n",
      "|        SC|     Yes|                1167|        SC|      18286|  6.171552006999891|0.06381931532319808|19.547585584600238|\n",
      "|        SC|      No|               17119|        SC|      18286|  6.171552006999891| 0.9361806846768019|19.547585584600238|\n",
      "|        LA|      No|               16430|        LA|      17986|  6.092683198042923|  0.913488268653397|19.446834204381183|\n",
      "|        LA|     Yes|                1556|        LA|      17986|  6.092683198042923|0.08651173134660291|19.446834204381183|\n",
      "|        MN|     Yes|                2151|        MN|      27894|  5.975586147558615|0.07711335771133578|  18.8372849818951|\n",
      "|        MN|      No|               25743|        MN|      27894|  5.975586147558615| 0.9228866422886642|  18.8372849818951|\n",
      "|        NJ|      No|               52518|        NJ|      57183|  6.133641117115227| 0.9184198100834164|17.139768637532136|\n",
      "|        NJ|     Yes|                4665|        NJ|      57183|  6.133641117115227| 0.0815801899165836|17.139768637532136|\n",
      "|        DC|     Yes|                 200|        DC|       3924|  4.871304791029561| 0.0509683995922528|15.541371049949031|\n",
      "|        DC|      No|                3724|        DC|       3924|  4.871304791029561| 0.9490316004077471|15.541371049949031|\n",
      "|        OR|     Yes|                1160|        OR|      17811| 5.8562685980573805|0.06512829150524957|17.961841100505335|\n",
      "|        OR|      No|               16651|        OR|      17811| 5.8562685980573805| 0.9348717084947504|17.961841100505335|\n",
      "|        VA|      No|               40646|        VA|      44286|  6.089215553448042| 0.9178069818904394|18.579144650679666|\n",
      "|        VA|     Yes|                3640|        VA|      44286|  6.089215553448042|0.08219301810956059|18.579144650679666|\n",
      "|        RI|     Yes|                 493|        RI|       6844|  6.416569257744009|0.07203389830508475| 17.65876534190532|\n",
      "|        RI|      No|                6351|        RI|       6844|  6.416569257744009| 0.9279661016949152| 17.65876534190532|\n",
      "|        KY|      No|               13579|        KY|      14702|  6.410896476669841| 0.9236158345803293|19.622849466022725|\n",
      "|        KY|     Yes|                1123|        KY|      14702|  6.410896476669841|0.07638416541967079|19.622849466022725|\n",
      "+----------+--------+--------------------+----------+-----------+-------------------+-------------------+------------------+\n",
      "only showing top 20 rows\n",
      "\n"
     ]
    }
   ],
   "source": [
    "df1.show()"
   ]
  },
  {
   "cell_type": "code",
   "execution_count": 126,
   "id": "confused-dylan",
   "metadata": {},
   "outputs": [
    {
     "name": "stdout",
     "output_type": "stream",
     "text": [
      "+----------+--------+--------------------+----------+-----------+-------------------+--------------------+------------------+\n",
      "|addr_state|bad_loan|Loan_Given_Condition|addr_state|Loan_Issued|avg(emplen_cleaned)|     Percentage_Loan|          avg(dti)|\n",
      "+----------+--------+--------------------+----------+-----------+-------------------+--------------------+------------------+\n",
      "|        HI|     Yes|                 711|        HI|       7586|  6.606643817558661| 0.09372528341682046|19.458216451357764|\n",
      "|        NV|     Yes|                1958|        NV|      21052|  6.002042561276839|   0.093007790233707| 18.57531635949078|\n",
      "|        AL|     Yes|                1684|        AL|      18665|  6.536244307527458| 0.09022234128047148|20.282304312885085|\n",
      "|        OK|     Yes|                1217|        OK|      13940|  6.054017216642754| 0.08730272596843615|19.988804160688655|\n",
      "|        NY|     Yes|               11071|        NY|     126981|  6.090958489852812| 0.08718627196194706|16.699913765268274|\n",
      "|        LA|     Yes|                1556|        LA|      17986|  6.092683198042923| 0.08651173134660291|19.446834204381183|\n",
      "|        FL|     Yes|                8973|        FL|     105664|  5.860813522107813| 0.08492012416717142|18.552199445406604|\n",
      "|        NM|     Yes|                 684|        NM|       8069|  6.253439087867146| 0.08476886850910893|20.098102614946086|\n",
      "|        MD|     Yes|                3078|        MD|      36706|  6.244156268729908| 0.08385550046313954|17.996008826894787|\n",
      "|        AR|     Yes|                 939|        AR|      11199| 6.3625323689615145| 0.08384677203321725|20.326084471827837|\n",
      "|        CA|     Yes|               17817|        CA|     215340|   6.04553264604811| 0.08273892449150182|16.970077552138722|\n",
      "|        NC|     Yes|                3496|        NC|      42340|  6.080231459612659| 0.08256967406707605|  18.9196107607643|\n",
      "|        VA|     Yes|                3640|        VA|      44286|  6.089215553448042| 0.08219301810956059|18.579144650679666|\n",
      "|        NJ|     Yes|                4665|        NJ|      57183|  6.133641117115227|  0.0815801899165836|17.139768637532136|\n",
      "|        UT|     Yes|                 840|        UT|      10429|  5.889826445488541| 0.08054463515198006|19.243735736887526|\n",
      "|        SD|     Yes|                 251|        SD|       3155|  5.975911251980983| 0.07955625990491284|20.888779714738508|\n",
      "|        AZ|     Yes|                2769|        AZ|      35315|  5.801245929491717| 0.07840860824012459| 18.45996545377319|\n",
      "|        AK|     Yes|                 290|        AK|       3710|  6.204582210242587| 0.07816711590296496| 18.86284636118598|\n",
      "|        PA|     Yes|                4118|        PA|      53258|  6.175316384392955| 0.07732171692515678| 19.25544143602838|\n",
      "|        MN|     Yes|                2151|        MN|      27894|  5.975586147558615| 0.07711335771133578|  18.8372849818951|\n",
      "|        OH|     Yes|                3928|        OH|      51278|  6.332930301493818|  0.0766020515620734|19.743906938648156|\n",
      "|        MA|     Yes|                2749|        MA|      35914|  5.934454530266748| 0.07654396614133764|17.080091886172518|\n",
      "|        KY|     Yes|                1123|        KY|      14702|  6.410896476669841| 0.07638416541967079|19.622849466022725|\n",
      "|        MO|     Yes|                1849|        MO|      24396|  6.199294966387932| 0.07579111329726185| 19.64142728316117|\n",
      "|        MI|     Yes|                2939|        MI|      38792|  6.414982470612498|  0.0757630439265828| 18.80880825943493|\n",
      "|        DE|     Yes|                 323|        DE|       4300| 6.4002325581395345| 0.07511627906976744| 19.03841162790698|\n",
      "|        TX|     Yes|                9432|        TX|     127349|  5.841954000424032| 0.07406418582006925|19.393861243079815|\n",
      "|        TN|     Yes|                1739|        TN|      23495|  6.151947222813365| 0.07401574803149606|20.056665247925093|\n",
      "|        IN|     Yes|                1857|        IN|      25116|  6.289655996177736|  0.0739369326325848|19.795912565695176|\n",
      "|        ID|     Yes|                 144|        ID|       1952|  5.702356557377049| 0.07377049180327869| 21.07852971311475|\n",
      "|        GA|     Yes|                3606|        GA|      50036|  6.096810296586458| 0.07206811096010872| 18.87652750019986|\n",
      "|        RI|     Yes|                 493|        RI|       6844|  6.416569257744009| 0.07203389830508475| 17.65876534190532|\n",
      "|        IA|     Yes|                   1|        IA|         14| 3.5714285714285716| 0.07142857142857142|13.656428571428568|\n",
      "|        NE|     Yes|                 324|        NE|       4547|  5.799208269188476| 0.07125577303716736|20.325924785572898|\n",
      "|        MS|     Yes|                 555|        MS|       7952|  6.525402414486922| 0.06979376257545272|20.563915995975847|\n",
      "|        WV|     Yes|                 327|        WV|       4733|  6.485104584829918|  0.0690893724910205|20.189321783224177|\n",
      "|        WA|     Yes|                2208|        WA|      32104|  5.976763020184401| 0.06877647645153252|18.284633523346734|\n",
      "|        WY|     Yes|                 228|        WY|       3373| 6.1461606878150015| 0.06759561221464572|20.401592054550846|\n",
      "|        MT|     Yes|                 289|        MT|       4284|  6.042950513538749| 0.06746031746031746|19.779421101774044|\n",
      "|        IL|     Yes|                4179|        IL|      62077|  6.120189442144434| 0.06731961918262802|18.240640494869275|\n",
      "|        CO|     Yes|                2141|        CO|      32469|  5.506421509747759| 0.06593981952015769|18.326620672662315|\n",
      "|        CT|     Yes|                1584|        CT|      24189|  6.257720451444872| 0.06548431105047749|17.387868866013473|\n",
      "|        OR|     Yes|                1160|        OR|      17811| 5.8562685980573805| 0.06512829150524957|17.961841100505335|\n",
      "|        SC|     Yes|                1167|        SC|      18286|  6.171552006999891| 0.06381931532319808|19.547585584600238|\n",
      "|        KS|     Yes|                 832|        KS|      13280| 6.2405873493975905| 0.06265060240963856|19.783151592740413|\n",
      "|        WI|     Yes|                1237|        WI|      20243|  6.298522946203626| 0.06110754334831794|19.360464358049686|\n",
      "|        ND|     Yes|                 129|        ND|       2166|  5.131117266851339| 0.05955678670360111|20.801869806094178|\n",
      "|        NH|     Yes|                 439|        NH|       7613| 6.2189675554971755|0.057664521213713384|19.056775252856955|\n",
      "|        VT|     Yes|                 170|        VT|       3281|  6.391344102407802| 0.05181347150259067|20.286586406583357|\n",
      "|        DC|     Yes|                 200|        DC|       3924|  4.871304791029561|  0.0509683995922528|15.541371049949031|\n",
      "+----------+--------+--------------------+----------+-----------+-------------------+--------------------+------------------+\n",
      "only showing top 50 rows\n",
      "\n"
     ]
    }
   ],
   "source": [
    "# Analyzing for bad loans\n",
    "df1.filter(df1.bad_loan == \"Yes\").sort(desc(\"Percentage_Loan\")).show(50)"
   ]
  },
  {
   "cell_type": "markdown",
   "id": "refined-destruction",
   "metadata": {},
   "source": [
    "# Observations: Hawai, Nevada, Alabama and Oklahoma high most Percentage of Bad Loans and reason can be Debt to Income ratio is also very high for these states"
   ]
  },
  {
   "cell_type": "code",
   "execution_count": 127,
   "id": "satisfactory-gibson",
   "metadata": {},
   "outputs": [
    {
     "name": "stdout",
     "output_type": "stream",
     "text": [
      "+----------+--------+--------------------+----------+-----------+-------------------+------------------+------------------+\n",
      "|addr_state|bad_loan|Loan_Given_Condition|addr_state|Loan_Issued|avg(emplen_cleaned)|   Percentage_Loan|          avg(dti)|\n",
      "+----------+--------+--------------------+----------+-----------+-------------------+------------------+------------------+\n",
      "|        ME|      No|                2569|        ME|       2671|  6.217147135904156|0.9618120554099588|20.054455260202165|\n",
      "|        DC|      No|                3724|        DC|       3924|  4.871304791029561|0.9490316004077471|15.541371049949031|\n",
      "|        VT|      No|                3111|        VT|       3281|  6.391344102407802|0.9481865284974094|20.286586406583357|\n",
      "|        NH|      No|                7174|        NH|       7613| 6.2189675554971755|0.9423354787862867|19.056775252856955|\n",
      "|        ND|      No|                2037|        ND|       2166|  5.131117266851339|0.9404432132963989|20.801869806094178|\n",
      "|        WI|      No|               19006|        WI|      20243|  6.298522946203626|0.9388924566516821|19.360464358049686|\n",
      "|        KS|      No|               12448|        KS|      13280| 6.2405873493975905|0.9373493975903614|19.783151592740413|\n",
      "|        SC|      No|               17119|        SC|      18286|  6.171552006999891|0.9361806846768019|19.547585584600238|\n",
      "|        OR|      No|               16651|        OR|      17811| 5.8562685980573805|0.9348717084947504|17.961841100505335|\n",
      "|        CT|      No|               22605|        CT|      24189|  6.257720451444872|0.9345156889495225|17.387868866013473|\n",
      "|        CO|      No|               30328|        CO|      32469|  5.506421509747759|0.9340601804798423|18.326620672662315|\n",
      "|        IL|      No|               57898|        IL|      62077|  6.120189442144434|0.9326803808173719|18.240640494869275|\n",
      "|        MT|      No|                3995|        MT|       4284|  6.042950513538749|0.9325396825396826|19.779421101774044|\n",
      "|        WY|      No|                3145|        WY|       3373| 6.1461606878150015|0.9324043877853543|20.401592054550846|\n",
      "|        WA|      No|               29896|        WA|      32104|  5.976763020184401|0.9312235235484675|18.284633523346734|\n",
      "|        WV|      No|                4406|        WV|       4733|  6.485104584829918|0.9309106275089795|20.189321783224177|\n",
      "|        MS|      No|                7397|        MS|       7952|  6.525402414486922|0.9302062374245473|20.563915995975847|\n",
      "|        NE|      No|                4223|        NE|       4547|  5.799208269188476|0.9287442269628327|20.325924785572898|\n",
      "|        IA|      No|                  13|        IA|         14| 3.5714285714285716|0.9285714285714286|13.656428571428568|\n",
      "|        RI|      No|                6351|        RI|       6844|  6.416569257744009|0.9279661016949152| 17.65876534190532|\n",
      "|        GA|      No|               46430|        GA|      50036|  6.096810296586458|0.9279318890398913| 18.87652750019986|\n",
      "|        ID|      No|                1808|        ID|       1952|  5.702356557377049|0.9262295081967213| 21.07852971311475|\n",
      "|        IN|      No|               23259|        IN|      25116|  6.289655996177736|0.9260630673674152|19.795912565695176|\n",
      "|        TN|      No|               21756|        TN|      23495|  6.151947222813365| 0.925984251968504|20.056665247925093|\n",
      "|        TX|      No|              117917|        TX|     127349|  5.841954000424032|0.9259358141799308|19.393861243079815|\n",
      "|        DE|      No|                3977|        DE|       4300| 6.4002325581395345|0.9248837209302325| 19.03841162790698|\n",
      "|        MI|      No|               35853|        MI|      38792|  6.414982470612498|0.9242369560734172| 18.80880825943493|\n",
      "|        MO|      No|               22547|        MO|      24396|  6.199294966387932|0.9242088867027382| 19.64142728316117|\n",
      "|        KY|      No|               13579|        KY|      14702|  6.410896476669841|0.9236158345803293|19.622849466022725|\n",
      "|        MA|      No|               33165|        MA|      35914|  5.934454530266748|0.9234560338586624|17.080091886172518|\n",
      "|        OH|      No|               47350|        OH|      51278|  6.332930301493818|0.9233979484379266|19.743906938648156|\n",
      "|        MN|      No|               25743|        MN|      27894|  5.975586147558615|0.9228866422886642|  18.8372849818951|\n",
      "|        PA|      No|               49140|        PA|      53258|  6.175316384392955|0.9226782830748432| 19.25544143602838|\n",
      "|        AK|      No|                3420|        AK|       3710|  6.204582210242587| 0.921832884097035| 18.86284636118598|\n",
      "|        AZ|      No|               32546|        AZ|      35315|  5.801245929491717|0.9215913917598754| 18.45996545377319|\n",
      "|        SD|      No|                2904|        SD|       3155|  5.975911251980983|0.9204437400950871|20.888779714738508|\n",
      "|        UT|      No|                9589|        UT|      10429|  5.889826445488541|0.9194553648480199|19.243735736887526|\n",
      "|        NJ|      No|               52518|        NJ|      57183|  6.133641117115227|0.9184198100834164|17.139768637532136|\n",
      "|        VA|      No|               40646|        VA|      44286|  6.089215553448042|0.9178069818904394|18.579144650679666|\n",
      "|        NC|      No|               38844|        NC|      42340|  6.080231459612659| 0.917430325932924|  18.9196107607643|\n",
      "|        CA|      No|              197523|        CA|     215340|   6.04553264604811|0.9172610755084982|16.970077552138722|\n",
      "|        AR|      No|               10260|        AR|      11199| 6.3625323689615145|0.9161532279667828|20.326084471827837|\n",
      "|        MD|      No|               33628|        MD|      36706|  6.244156268729908|0.9161444995368605|17.996008826894787|\n",
      "|        NM|      No|                7385|        NM|       8069|  6.253439087867146|0.9152311314908911|20.098102614946086|\n",
      "|        FL|      No|               96691|        FL|     105664|  5.860813522107813|0.9150798758328286|18.552199445406604|\n",
      "|        LA|      No|               16430|        LA|      17986|  6.092683198042923| 0.913488268653397|19.446834204381183|\n",
      "|        NY|      No|              115910|        NY|     126981|  6.090958489852812|0.9128137280380529|16.699913765268274|\n",
      "|        OK|      No|               12723|        OK|      13940|  6.054017216642754|0.9126972740315639|19.988804160688655|\n",
      "|        AL|      No|               16981|        AL|      18665|  6.536244307527458|0.9097776587195285|20.282304312885085|\n",
      "|        NV|      No|               19094|        NV|      21052|  6.002042561276839| 0.906992209766293| 18.57531635949078|\n",
      "+----------+--------+--------------------+----------+-----------+-------------------+------------------+------------------+\n",
      "only showing top 50 rows\n",
      "\n"
     ]
    }
   ],
   "source": [
    "# Analyzing for Good Loan\n",
    "df1.filter(df1.bad_loan == \"No\").sort(desc(\"Percentage_Loan\")).show(50)"
   ]
  },
  {
   "cell_type": "markdown",
   "id": "linear-headline",
   "metadata": {},
   "source": [
    "# Observations: Maine, District of Columbia and Vermont have maximum percentage of good Loans. "
   ]
  },
  {
   "cell_type": "code",
   "execution_count": 143,
   "id": "boolean-repeat",
   "metadata": {},
   "outputs": [],
   "source": [
    "df_sel=df_sel.withColumn(\"installment\",df_sel[\"installment\"].cast(\"double\"))"
   ]
  },
  {
   "cell_type": "code",
   "execution_count": 144,
   "id": "thermal-contract",
   "metadata": {},
   "outputs": [],
   "source": [
    "s=df_sel.select(\"purpose\",\"installment\",\"bad_loan\")"
   ]
  },
  {
   "cell_type": "code",
   "execution_count": 145,
   "id": "invisible-custody",
   "metadata": {},
   "outputs": [
    {
     "data": {
      "text/plain": [
       "Text(0.5, 1.0, 'Installments made on Various Purpose for Loan Taken')"
      ]
     },
     "execution_count": 145,
     "metadata": {},
     "output_type": "execute_result"
    },
    {
     "data": {
      "image/png": "[encoded data removed]",
      "text/plain": [
       "<Figure size 1080x504 with 1 Axes>"
      ]
     },
     "metadata": {
      "needs_background": "light"
     },
     "output_type": "display_data"
    }
   ],
   "source": [
    "# Converting spark dataframe to pandas dataframe for plotting\n",
    "z=s.toPandas()\n",
    "# Installments made on Various Purpose for Loan Taken\n",
    "plt.figure(figsize=(15, 7))\n",
    "plt.xticks(rotation = 60)\n",
    "sns.lineplot(x=\"purpose\", y=\"installment\", hue=\"bad_loan\",\n",
    "                    data=z, palette=\"muted\")\n",
    "plt.title(\"Installments made on Various Purpose for Loan Taken\")"
   ]
  },
  {
   "cell_type": "markdown",
   "id": "three-quarter",
   "metadata": {},
   "source": [
    "# Observations: Generally Installments made for car, Vacation and Eductional are low.\n",
    "# Installments made for Credit Card, Small Business, Debt Consolidation, Home Improvement and House are high"
   ]
  },
  {
   "cell_type": "code",
   "execution_count": 141,
   "id": "consolidated-afghanistan",
   "metadata": {},
   "outputs": [
    {
     "data": {
      "text/plain": [
       "Text(0.5, 1.0, 'Interset Rate across the years')"
      ]
     },
     "execution_count": 141,
     "metadata": {},
     "output_type": "execute_result"
    },
    {
     "data": {
      "image/png": "[encoded data removed]",
      "text/plain": [
       "<Figure size 1080x504 with 1 Axes>"
      ]
     },
     "metadata": {
      "needs_background": "light"
     },
     "output_type": "display_data"
    }
   ],
   "source": [
    "df_sel=df_sel.withColumn(\"int_rate\",df_sel[\"int_rate\"].cast(\"double\"))\n",
    "# Converting spark dataframe to pandas dataframe for plotting\n",
    "s=df_sel.select(\"int_rate\",\"year\",\"bad_loan\")\n",
    "z=s.toPandas()\n",
    "plt.figure(figsize=(15, 7))\n",
    "plt.xticks(rotation = 60)\n",
    "sns.lineplot(x=\"year\", y=\"int_rate\",hue=\"bad_loan\",\n",
    "                    data=z, palette=\"muted\")\n",
    "plt.title(\"Interset Rate across the years\")"
   ]
  },
  {
   "cell_type": "markdown",
   "id": "expanded-interview",
   "metadata": {},
   "source": [
    "# Observations: Interest rate for Bad Loans are higher than Good loans making it difficult to repay and resulting into Not Repaying"
   ]
  },
  {
   "cell_type": "code",
   "execution_count": null,
   "id": "bound-rochester",
   "metadata": {},
   "outputs": [],
   "source": []
  }
 ],
 "metadata": {
  "kernelspec": {
   "display_name": "Python 3",
   "language": "python",
   "name": "python3"
  },
  "language_info": {
   "codemirror_mode": {
    "name": "ipython",
    "version": 3
   },
   "file_extension": ".py",
   "mimetype": "text/x-python",
   "name": "python",
   "nbconvert_exporter": "python",
   "pygments_lexer": "ipython3",
   "version": "3.7.7"
  }
 },
 "nbformat": 4,
 "nbformat_minor": 5
}
